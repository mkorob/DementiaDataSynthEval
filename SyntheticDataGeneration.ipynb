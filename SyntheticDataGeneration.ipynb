{
  "nbformat": 4,
  "nbformat_minor": 0,
  "metadata": {
    "colab": {
      "provenance": [],
      "authorship_tag": "ABX9TyNOgoQFdTJjZRgb+oW/MzAN",
      "include_colab_link": true
    },
    "kernelspec": {
      "name": "python3",
      "display_name": "Python 3"
    },
    "language_info": {
      "name": "python"
    }
  },
  "cells": [
    {
      "cell_type": "markdown",
      "metadata": {
        "id": "view-in-github",
        "colab_type": "text"
      },
      "source": [
        "<a href=\"https://colab.research.google.com/github/mkorob/DementiaDataSynthEval/blob/main/SyntheticDataGeneration.ipynb\" target=\"_parent\"><img src=\"https://colab.research.google.com/assets/colab-badge.svg\" alt=\"Open In Colab\"/></a>"
      ]
    },
    {
      "cell_type": "markdown",
      "source": [
        "#Synthetic Data Generation"
      ],
      "metadata": {
        "id": "xULJbi0NcifC"
      }
    },
    {
      "cell_type": "code",
      "source": [
        "!pip install openai"
      ],
      "metadata": {
        "id": "YXHY_A1y4f8W",
        "colab": {
          "base_uri": "https://localhost:8080/"
        },
        "outputId": "92b8ca27-00ec-475e-f04a-9591ddfd9052"
      },
      "execution_count": 1,
      "outputs": [
        {
          "output_type": "stream",
          "name": "stdout",
          "text": [
            "Collecting openai\n",
            "  Downloading openai-1.40.2-py3-none-any.whl.metadata (22 kB)\n",
            "Requirement already satisfied: anyio<5,>=3.5.0 in /usr/local/lib/python3.10/dist-packages (from openai) (3.7.1)\n",
            "Requirement already satisfied: distro<2,>=1.7.0 in /usr/lib/python3/dist-packages (from openai) (1.7.0)\n",
            "Collecting httpx<1,>=0.23.0 (from openai)\n",
            "  Downloading httpx-0.27.0-py3-none-any.whl.metadata (7.2 kB)\n",
            "Collecting jiter<1,>=0.4.0 (from openai)\n",
            "  Downloading jiter-0.5.0-cp310-cp310-manylinux_2_17_x86_64.manylinux2014_x86_64.whl.metadata (3.6 kB)\n",
            "Requirement already satisfied: pydantic<3,>=1.9.0 in /usr/local/lib/python3.10/dist-packages (from openai) (2.8.2)\n",
            "Requirement already satisfied: sniffio in /usr/local/lib/python3.10/dist-packages (from openai) (1.3.1)\n",
            "Requirement already satisfied: tqdm>4 in /usr/local/lib/python3.10/dist-packages (from openai) (4.66.5)\n",
            "Requirement already satisfied: typing-extensions<5,>=4.11 in /usr/local/lib/python3.10/dist-packages (from openai) (4.12.2)\n",
            "Requirement already satisfied: idna>=2.8 in /usr/local/lib/python3.10/dist-packages (from anyio<5,>=3.5.0->openai) (3.7)\n",
            "Requirement already satisfied: exceptiongroup in /usr/local/lib/python3.10/dist-packages (from anyio<5,>=3.5.0->openai) (1.2.2)\n",
            "Requirement already satisfied: certifi in /usr/local/lib/python3.10/dist-packages (from httpx<1,>=0.23.0->openai) (2024.7.4)\n",
            "Collecting httpcore==1.* (from httpx<1,>=0.23.0->openai)\n",
            "  Downloading httpcore-1.0.5-py3-none-any.whl.metadata (20 kB)\n",
            "Collecting h11<0.15,>=0.13 (from httpcore==1.*->httpx<1,>=0.23.0->openai)\n",
            "  Downloading h11-0.14.0-py3-none-any.whl.metadata (8.2 kB)\n",
            "Requirement already satisfied: annotated-types>=0.4.0 in /usr/local/lib/python3.10/dist-packages (from pydantic<3,>=1.9.0->openai) (0.7.0)\n",
            "Requirement already satisfied: pydantic-core==2.20.1 in /usr/local/lib/python3.10/dist-packages (from pydantic<3,>=1.9.0->openai) (2.20.1)\n",
            "Downloading openai-1.40.2-py3-none-any.whl (360 kB)\n",
            "\u001b[2K   \u001b[90m━━━━━━━━━━━━━━━━━━━━━━━━━━━━━━━━━━━━━━━━\u001b[0m \u001b[32m360.7/360.7 kB\u001b[0m \u001b[31m11.4 MB/s\u001b[0m eta \u001b[36m0:00:00\u001b[0m\n",
            "\u001b[?25hDownloading httpx-0.27.0-py3-none-any.whl (75 kB)\n",
            "\u001b[2K   \u001b[90m━━━━━━━━━━━━━━━━━━━━━━━━━━━━━━━━━━━━━━━━\u001b[0m \u001b[32m75.6/75.6 kB\u001b[0m \u001b[31m5.0 MB/s\u001b[0m eta \u001b[36m0:00:00\u001b[0m\n",
            "\u001b[?25hDownloading httpcore-1.0.5-py3-none-any.whl (77 kB)\n",
            "\u001b[2K   \u001b[90m━━━━━━━━━━━━━━━━━━━━━━━━━━━━━━━━━━━━━━━━\u001b[0m \u001b[32m77.9/77.9 kB\u001b[0m \u001b[31m4.8 MB/s\u001b[0m eta \u001b[36m0:00:00\u001b[0m\n",
            "\u001b[?25hDownloading jiter-0.5.0-cp310-cp310-manylinux_2_17_x86_64.manylinux2014_x86_64.whl (318 kB)\n",
            "\u001b[2K   \u001b[90m━━━━━━━━━━━━━━━━━━━━━━━━━━━━━━━━━━━━━━━━\u001b[0m \u001b[32m318.9/318.9 kB\u001b[0m \u001b[31m15.8 MB/s\u001b[0m eta \u001b[36m0:00:00\u001b[0m\n",
            "\u001b[?25hDownloading h11-0.14.0-py3-none-any.whl (58 kB)\n",
            "\u001b[2K   \u001b[90m━━━━━━━━━━━━━━━━━━━━━━━━━━━━━━━━━━━━━━━━\u001b[0m \u001b[32m58.3/58.3 kB\u001b[0m \u001b[31m4.1 MB/s\u001b[0m eta \u001b[36m0:00:00\u001b[0m\n",
            "\u001b[?25hInstalling collected packages: jiter, h11, httpcore, httpx, openai\n",
            "Successfully installed h11-0.14.0 httpcore-1.0.5 httpx-0.27.0 jiter-0.5.0 openai-1.40.2\n"
          ]
        }
      ]
    },
    {
      "cell_type": "code",
      "source": [
        "with open('OpenAI_key_personal.txt') as f:\n",
        "    api_key = f.readlines()[0]"
      ],
      "metadata": {
        "id": "ZogDWaj89cde"
      },
      "execution_count": 3,
      "outputs": []
    },
    {
      "cell_type": "code",
      "source": [
        "from openai import OpenAI\n",
        "\n",
        "client = OpenAI(\n",
        "    # This is the default and can be omitted\n",
        "    api_key=api_key,\n",
        ")"
      ],
      "metadata": {
        "id": "JPj2bZUQ-X6W"
      },
      "execution_count": 4,
      "outputs": []
    },
    {
      "cell_type": "code",
      "source": [
        "import pandas as pd"
      ],
      "metadata": {
        "id": "4StHV23rc1fX"
      },
      "execution_count": 5,
      "outputs": []
    },
    {
      "cell_type": "markdown",
      "source": [
        "## 1. Define Topics and Data"
      ],
      "metadata": {
        "id": "0PUz3T8jcvxD"
      }
    },
    {
      "cell_type": "code",
      "source": [
        "df_final = pd.read_csv(\"/content/final_data_texts_w_features_v2.csv\")"
      ],
      "metadata": {
        "id": "Egdci-Ujc6xd"
      },
      "execution_count": 6,
      "outputs": []
    },
    {
      "cell_type": "code",
      "source": [
        "new_essay_topics =  [\"A Day in My Life: Describe a typical day, from morning routines to evening wind-down.\",\n",
        "\t\"Travel Diary: Share experiences and photos from a recent trip or vacation.\",\n",
        "\t\"Book Review: Write about a book you recently read and what you thought of it.\",\n",
        "\t\"Cooking Adventure: Post a recipe you tried and how it turned out.\",\n",
        "\t\"Fitness Journey: Document your progress in a new workout regimen or fitness goal.\",\n",
        "\t\"Weekend Getaway: Share highlights and photos from a spontaneous weekend trip.\",\n",
        "\t\"Favorite Hobbies: Talk about your favorite hobbies and why you enjoy them.\",\n",
        "\t\"Personal Growth: Reflect on personal growth or a recent life lesson.\",\n",
        "\t\"Family Time: Describe a memorable family event or tradition.\",\n",
        "\t\"Movie Night: Review a movie you watched and your thoughts on it.\",\n",
        "\t\"Gardening Tips: Share tips and photos from your garden or plant collection.\",\n",
        "\t\"DIY Project: Document a DIY project you completed, including steps and photos.\",\n",
        "\t\"Pet Stories: Share cute or funny stories about your pets.\",\n",
        "\t\"Friendship Moments: Write about a recent fun outing or experience with friends.\",\n",
        "\t\"Music Playlist: Create a playlist of your current favorite songs and why you love them.\",\n",
        "\t\"Career Insights: Discuss recent achievements or challenges at work.\",\n",
        "\t\"Local Adventure: Explore a new place in your city or town and write about it.\",\n",
        "\t\"Seasonal Activities: Describe seasonal activities or traditions you look forward to.\",\n",
        "\t\"Mindfulness Practice: Share your experiences with mindfulness or meditation.\",\n",
        "\"Home Decor: Post about recent changes or updates to your home decor.\"]"
      ],
      "metadata": {
        "id": "q8hDfZ9_4jtq"
      },
      "execution_count": 7,
      "outputs": []
    },
    {
      "cell_type": "markdown",
      "source": [
        "### Define Training Sets"
      ],
      "metadata": {
        "id": "Pao8pyX2dAVJ"
      }
    },
    {
      "cell_type": "markdown",
      "source": [
        "Training set is 10 rows of data from each author"
      ],
      "metadata": {
        "id": "4fudshWrdVBm"
      }
    },
    {
      "cell_type": "code",
      "source": [
        "import numpy as np"
      ],
      "metadata": {
        "id": "BnPZKPwdee4K"
      },
      "execution_count": 8,
      "outputs": []
    },
    {
      "cell_type": "code",
      "source": [
        "np.random.seed(42)  # For reproducibility\n",
        "df_final[\"split\"] = 'test'  # Default all to test\n",
        "\n",
        "# Iterate over each author and assign 10 random rows to train\n",
        "authors = df_final[\"ID\"].unique()\n",
        "for author in authors:\n",
        "    author_rows = df_final[df_final[\"ID\"] == author]\n",
        "    train_indices = author_rows.sample(n=10, random_state=42).index\n",
        "    df_final.loc[train_indices, \"split\"] = 'train'"
      ],
      "metadata": {
        "id": "V8cXyg5edyK2"
      },
      "execution_count": 9,
      "outputs": []
    },
    {
      "cell_type": "code",
      "source": [
        "df_final.groupby(['ID', 'split']).count()"
      ],
      "metadata": {
        "colab": {
          "base_uri": "https://localhost:8080/",
          "height": 745
        },
        "id": "mZ67eVGJetsF",
        "outputId": "af58c260-3a1f-4238-b5e2-9b980ef61357"
      },
      "execution_count": 10,
      "outputs": [
        {
          "output_type": "execute_result",
          "data": {
            "text/plain": [
              "             Unnamed: 0  group  filtered_words  determiner_noun_phrase_ratio  \\\n",
              "ID    split                                                                    \n",
              "con1  test           10     10              10                            10   \n",
              "      train          10     10              10                            10   \n",
              "con2  test           10     10              10                            10   \n",
              "      train          10     10              10                            10   \n",
              "con4  test           10     10              10                            10   \n",
              "      train          10     10              10                            10   \n",
              "con5  test            5      5               5                             5   \n",
              "      train          10     10              10                            10   \n",
              "con6  test           10     10              10                            10   \n",
              "      train          10     10              10                            10   \n",
              "dem1  test           14     14              14                            14   \n",
              "      train          10     10              10                            10   \n",
              "dem10 test           10     10              10                            10   \n",
              "      train          10     10              10                            10   \n",
              "dem11 test           10     10              10                            10   \n",
              "      train          10     10              10                            10   \n",
              "dem3  test           10     10              10                            10   \n",
              "      train          10     10              10                            10   \n",
              "dem6  test           11     11              11                            11   \n",
              "      train          10     10              10                            10   \n",
              "\n",
              "             past_tense_verbs  word_count_snip  vp_np_ratio  \\\n",
              "ID    split                                                   \n",
              "con1  test                 10               10           10   \n",
              "      train                10               10           10   \n",
              "con2  test                 10               10           10   \n",
              "      train                10               10           10   \n",
              "con4  test                 10               10           10   \n",
              "      train                10               10           10   \n",
              "con5  test                  5                5            5   \n",
              "      train                10               10           10   \n",
              "con6  test                 10               10           10   \n",
              "      train                10               10           10   \n",
              "dem1  test                 14               14           14   \n",
              "      train                10               10           10   \n",
              "dem10 test                 10               10           10   \n",
              "      train                10               10           10   \n",
              "dem11 test                 10               10           10   \n",
              "      train                10               10           10   \n",
              "dem3  test                 10               10           10   \n",
              "      train                10               10           10   \n",
              "dem6  test                 11               11           11   \n",
              "      train                10               10           10   \n",
              "\n",
              "             coordinate_phrases_ratio  subordinate_ratio  avg_word_length  \\\n",
              "ID    split                                                                 \n",
              "con1  test                         10                 10               10   \n",
              "      train                        10                 10               10   \n",
              "con2  test                         10                 10               10   \n",
              "      train                        10                 10               10   \n",
              "con4  test                         10                 10               10   \n",
              "      train                        10                 10               10   \n",
              "con5  test                          5                  5                5   \n",
              "      train                        10                 10               10   \n",
              "con6  test                         10                 10               10   \n",
              "      train                        10                 10               10   \n",
              "dem1  test                         14                 14               14   \n",
              "      train                        10                 10               10   \n",
              "dem10 test                         10                 10               10   \n",
              "      train                        10                 10               10   \n",
              "dem11 test                         10                 10               10   \n",
              "      train                        10                 10               10   \n",
              "dem3  test                         10                 10               10   \n",
              "      train                        10                 10               10   \n",
              "dem6  test                         11                 11               11   \n",
              "      train                        10                 10               10   \n",
              "\n",
              "             proportion_subjects  SUBTL_score_mean  \n",
              "ID    split                                         \n",
              "con1  test                    10                10  \n",
              "      train                   10                10  \n",
              "con2  test                    10                10  \n",
              "      train                   10                10  \n",
              "con4  test                    10                10  \n",
              "      train                   10                10  \n",
              "con5  test                     5                 5  \n",
              "      train                   10                10  \n",
              "con6  test                    10                10  \n",
              "      train                   10                10  \n",
              "dem1  test                    14                14  \n",
              "      train                   10                10  \n",
              "dem10 test                    10                10  \n",
              "      train                   10                10  \n",
              "dem11 test                    10                10  \n",
              "      train                   10                10  \n",
              "dem3  test                    10                10  \n",
              "      train                   10                10  \n",
              "dem6  test                    11                11  \n",
              "      train                   10                10  "
            ],
            "text/html": [
              "\n",
              "  <div id=\"df-ca3a155f-0db8-462e-97ea-fbb9c3f31919\" class=\"colab-df-container\">\n",
              "    <div>\n",
              "<style scoped>\n",
              "    .dataframe tbody tr th:only-of-type {\n",
              "        vertical-align: middle;\n",
              "    }\n",
              "\n",
              "    .dataframe tbody tr th {\n",
              "        vertical-align: top;\n",
              "    }\n",
              "\n",
              "    .dataframe thead th {\n",
              "        text-align: right;\n",
              "    }\n",
              "</style>\n",
              "<table border=\"1\" class=\"dataframe\">\n",
              "  <thead>\n",
              "    <tr style=\"text-align: right;\">\n",
              "      <th></th>\n",
              "      <th></th>\n",
              "      <th>Unnamed: 0</th>\n",
              "      <th>group</th>\n",
              "      <th>filtered_words</th>\n",
              "      <th>determiner_noun_phrase_ratio</th>\n",
              "      <th>past_tense_verbs</th>\n",
              "      <th>word_count_snip</th>\n",
              "      <th>vp_np_ratio</th>\n",
              "      <th>coordinate_phrases_ratio</th>\n",
              "      <th>subordinate_ratio</th>\n",
              "      <th>avg_word_length</th>\n",
              "      <th>proportion_subjects</th>\n",
              "      <th>SUBTL_score_mean</th>\n",
              "    </tr>\n",
              "    <tr>\n",
              "      <th>ID</th>\n",
              "      <th>split</th>\n",
              "      <th></th>\n",
              "      <th></th>\n",
              "      <th></th>\n",
              "      <th></th>\n",
              "      <th></th>\n",
              "      <th></th>\n",
              "      <th></th>\n",
              "      <th></th>\n",
              "      <th></th>\n",
              "      <th></th>\n",
              "      <th></th>\n",
              "      <th></th>\n",
              "    </tr>\n",
              "  </thead>\n",
              "  <tbody>\n",
              "    <tr>\n",
              "      <th rowspan=\"2\" valign=\"top\">con1</th>\n",
              "      <th>test</th>\n",
              "      <td>10</td>\n",
              "      <td>10</td>\n",
              "      <td>10</td>\n",
              "      <td>10</td>\n",
              "      <td>10</td>\n",
              "      <td>10</td>\n",
              "      <td>10</td>\n",
              "      <td>10</td>\n",
              "      <td>10</td>\n",
              "      <td>10</td>\n",
              "      <td>10</td>\n",
              "      <td>10</td>\n",
              "    </tr>\n",
              "    <tr>\n",
              "      <th>train</th>\n",
              "      <td>10</td>\n",
              "      <td>10</td>\n",
              "      <td>10</td>\n",
              "      <td>10</td>\n",
              "      <td>10</td>\n",
              "      <td>10</td>\n",
              "      <td>10</td>\n",
              "      <td>10</td>\n",
              "      <td>10</td>\n",
              "      <td>10</td>\n",
              "      <td>10</td>\n",
              "      <td>10</td>\n",
              "    </tr>\n",
              "    <tr>\n",
              "      <th rowspan=\"2\" valign=\"top\">con2</th>\n",
              "      <th>test</th>\n",
              "      <td>10</td>\n",
              "      <td>10</td>\n",
              "      <td>10</td>\n",
              "      <td>10</td>\n",
              "      <td>10</td>\n",
              "      <td>10</td>\n",
              "      <td>10</td>\n",
              "      <td>10</td>\n",
              "      <td>10</td>\n",
              "      <td>10</td>\n",
              "      <td>10</td>\n",
              "      <td>10</td>\n",
              "    </tr>\n",
              "    <tr>\n",
              "      <th>train</th>\n",
              "      <td>10</td>\n",
              "      <td>10</td>\n",
              "      <td>10</td>\n",
              "      <td>10</td>\n",
              "      <td>10</td>\n",
              "      <td>10</td>\n",
              "      <td>10</td>\n",
              "      <td>10</td>\n",
              "      <td>10</td>\n",
              "      <td>10</td>\n",
              "      <td>10</td>\n",
              "      <td>10</td>\n",
              "    </tr>\n",
              "    <tr>\n",
              "      <th rowspan=\"2\" valign=\"top\">con4</th>\n",
              "      <th>test</th>\n",
              "      <td>10</td>\n",
              "      <td>10</td>\n",
              "      <td>10</td>\n",
              "      <td>10</td>\n",
              "      <td>10</td>\n",
              "      <td>10</td>\n",
              "      <td>10</td>\n",
              "      <td>10</td>\n",
              "      <td>10</td>\n",
              "      <td>10</td>\n",
              "      <td>10</td>\n",
              "      <td>10</td>\n",
              "    </tr>\n",
              "    <tr>\n",
              "      <th>train</th>\n",
              "      <td>10</td>\n",
              "      <td>10</td>\n",
              "      <td>10</td>\n",
              "      <td>10</td>\n",
              "      <td>10</td>\n",
              "      <td>10</td>\n",
              "      <td>10</td>\n",
              "      <td>10</td>\n",
              "      <td>10</td>\n",
              "      <td>10</td>\n",
              "      <td>10</td>\n",
              "      <td>10</td>\n",
              "    </tr>\n",
              "    <tr>\n",
              "      <th rowspan=\"2\" valign=\"top\">con5</th>\n",
              "      <th>test</th>\n",
              "      <td>5</td>\n",
              "      <td>5</td>\n",
              "      <td>5</td>\n",
              "      <td>5</td>\n",
              "      <td>5</td>\n",
              "      <td>5</td>\n",
              "      <td>5</td>\n",
              "      <td>5</td>\n",
              "      <td>5</td>\n",
              "      <td>5</td>\n",
              "      <td>5</td>\n",
              "      <td>5</td>\n",
              "    </tr>\n",
              "    <tr>\n",
              "      <th>train</th>\n",
              "      <td>10</td>\n",
              "      <td>10</td>\n",
              "      <td>10</td>\n",
              "      <td>10</td>\n",
              "      <td>10</td>\n",
              "      <td>10</td>\n",
              "      <td>10</td>\n",
              "      <td>10</td>\n",
              "      <td>10</td>\n",
              "      <td>10</td>\n",
              "      <td>10</td>\n",
              "      <td>10</td>\n",
              "    </tr>\n",
              "    <tr>\n",
              "      <th rowspan=\"2\" valign=\"top\">con6</th>\n",
              "      <th>test</th>\n",
              "      <td>10</td>\n",
              "      <td>10</td>\n",
              "      <td>10</td>\n",
              "      <td>10</td>\n",
              "      <td>10</td>\n",
              "      <td>10</td>\n",
              "      <td>10</td>\n",
              "      <td>10</td>\n",
              "      <td>10</td>\n",
              "      <td>10</td>\n",
              "      <td>10</td>\n",
              "      <td>10</td>\n",
              "    </tr>\n",
              "    <tr>\n",
              "      <th>train</th>\n",
              "      <td>10</td>\n",
              "      <td>10</td>\n",
              "      <td>10</td>\n",
              "      <td>10</td>\n",
              "      <td>10</td>\n",
              "      <td>10</td>\n",
              "      <td>10</td>\n",
              "      <td>10</td>\n",
              "      <td>10</td>\n",
              "      <td>10</td>\n",
              "      <td>10</td>\n",
              "      <td>10</td>\n",
              "    </tr>\n",
              "    <tr>\n",
              "      <th rowspan=\"2\" valign=\"top\">dem1</th>\n",
              "      <th>test</th>\n",
              "      <td>14</td>\n",
              "      <td>14</td>\n",
              "      <td>14</td>\n",
              "      <td>14</td>\n",
              "      <td>14</td>\n",
              "      <td>14</td>\n",
              "      <td>14</td>\n",
              "      <td>14</td>\n",
              "      <td>14</td>\n",
              "      <td>14</td>\n",
              "      <td>14</td>\n",
              "      <td>14</td>\n",
              "    </tr>\n",
              "    <tr>\n",
              "      <th>train</th>\n",
              "      <td>10</td>\n",
              "      <td>10</td>\n",
              "      <td>10</td>\n",
              "      <td>10</td>\n",
              "      <td>10</td>\n",
              "      <td>10</td>\n",
              "      <td>10</td>\n",
              "      <td>10</td>\n",
              "      <td>10</td>\n",
              "      <td>10</td>\n",
              "      <td>10</td>\n",
              "      <td>10</td>\n",
              "    </tr>\n",
              "    <tr>\n",
              "      <th rowspan=\"2\" valign=\"top\">dem10</th>\n",
              "      <th>test</th>\n",
              "      <td>10</td>\n",
              "      <td>10</td>\n",
              "      <td>10</td>\n",
              "      <td>10</td>\n",
              "      <td>10</td>\n",
              "      <td>10</td>\n",
              "      <td>10</td>\n",
              "      <td>10</td>\n",
              "      <td>10</td>\n",
              "      <td>10</td>\n",
              "      <td>10</td>\n",
              "      <td>10</td>\n",
              "    </tr>\n",
              "    <tr>\n",
              "      <th>train</th>\n",
              "      <td>10</td>\n",
              "      <td>10</td>\n",
              "      <td>10</td>\n",
              "      <td>10</td>\n",
              "      <td>10</td>\n",
              "      <td>10</td>\n",
              "      <td>10</td>\n",
              "      <td>10</td>\n",
              "      <td>10</td>\n",
              "      <td>10</td>\n",
              "      <td>10</td>\n",
              "      <td>10</td>\n",
              "    </tr>\n",
              "    <tr>\n",
              "      <th rowspan=\"2\" valign=\"top\">dem11</th>\n",
              "      <th>test</th>\n",
              "      <td>10</td>\n",
              "      <td>10</td>\n",
              "      <td>10</td>\n",
              "      <td>10</td>\n",
              "      <td>10</td>\n",
              "      <td>10</td>\n",
              "      <td>10</td>\n",
              "      <td>10</td>\n",
              "      <td>10</td>\n",
              "      <td>10</td>\n",
              "      <td>10</td>\n",
              "      <td>10</td>\n",
              "    </tr>\n",
              "    <tr>\n",
              "      <th>train</th>\n",
              "      <td>10</td>\n",
              "      <td>10</td>\n",
              "      <td>10</td>\n",
              "      <td>10</td>\n",
              "      <td>10</td>\n",
              "      <td>10</td>\n",
              "      <td>10</td>\n",
              "      <td>10</td>\n",
              "      <td>10</td>\n",
              "      <td>10</td>\n",
              "      <td>10</td>\n",
              "      <td>10</td>\n",
              "    </tr>\n",
              "    <tr>\n",
              "      <th rowspan=\"2\" valign=\"top\">dem3</th>\n",
              "      <th>test</th>\n",
              "      <td>10</td>\n",
              "      <td>10</td>\n",
              "      <td>10</td>\n",
              "      <td>10</td>\n",
              "      <td>10</td>\n",
              "      <td>10</td>\n",
              "      <td>10</td>\n",
              "      <td>10</td>\n",
              "      <td>10</td>\n",
              "      <td>10</td>\n",
              "      <td>10</td>\n",
              "      <td>10</td>\n",
              "    </tr>\n",
              "    <tr>\n",
              "      <th>train</th>\n",
              "      <td>10</td>\n",
              "      <td>10</td>\n",
              "      <td>10</td>\n",
              "      <td>10</td>\n",
              "      <td>10</td>\n",
              "      <td>10</td>\n",
              "      <td>10</td>\n",
              "      <td>10</td>\n",
              "      <td>10</td>\n",
              "      <td>10</td>\n",
              "      <td>10</td>\n",
              "      <td>10</td>\n",
              "    </tr>\n",
              "    <tr>\n",
              "      <th rowspan=\"2\" valign=\"top\">dem6</th>\n",
              "      <th>test</th>\n",
              "      <td>11</td>\n",
              "      <td>11</td>\n",
              "      <td>11</td>\n",
              "      <td>11</td>\n",
              "      <td>11</td>\n",
              "      <td>11</td>\n",
              "      <td>11</td>\n",
              "      <td>11</td>\n",
              "      <td>11</td>\n",
              "      <td>11</td>\n",
              "      <td>11</td>\n",
              "      <td>11</td>\n",
              "    </tr>\n",
              "    <tr>\n",
              "      <th>train</th>\n",
              "      <td>10</td>\n",
              "      <td>10</td>\n",
              "      <td>10</td>\n",
              "      <td>10</td>\n",
              "      <td>10</td>\n",
              "      <td>10</td>\n",
              "      <td>10</td>\n",
              "      <td>10</td>\n",
              "      <td>10</td>\n",
              "      <td>10</td>\n",
              "      <td>10</td>\n",
              "      <td>10</td>\n",
              "    </tr>\n",
              "  </tbody>\n",
              "</table>\n",
              "</div>\n",
              "    <div class=\"colab-df-buttons\">\n",
              "\n",
              "  <div class=\"colab-df-container\">\n",
              "    <button class=\"colab-df-convert\" onclick=\"convertToInteractive('df-ca3a155f-0db8-462e-97ea-fbb9c3f31919')\"\n",
              "            title=\"Convert this dataframe to an interactive table.\"\n",
              "            style=\"display:none;\">\n",
              "\n",
              "  <svg xmlns=\"http://www.w3.org/2000/svg\" height=\"24px\" viewBox=\"0 -960 960 960\">\n",
              "    <path d=\"M120-120v-720h720v720H120Zm60-500h600v-160H180v160Zm220 220h160v-160H400v160Zm0 220h160v-160H400v160ZM180-400h160v-160H180v160Zm440 0h160v-160H620v160ZM180-180h160v-160H180v160Zm440 0h160v-160H620v160Z\"/>\n",
              "  </svg>\n",
              "    </button>\n",
              "\n",
              "  <style>\n",
              "    .colab-df-container {\n",
              "      display:flex;\n",
              "      gap: 12px;\n",
              "    }\n",
              "\n",
              "    .colab-df-convert {\n",
              "      background-color: #E8F0FE;\n",
              "      border: none;\n",
              "      border-radius: 50%;\n",
              "      cursor: pointer;\n",
              "      display: none;\n",
              "      fill: #1967D2;\n",
              "      height: 32px;\n",
              "      padding: 0 0 0 0;\n",
              "      width: 32px;\n",
              "    }\n",
              "\n",
              "    .colab-df-convert:hover {\n",
              "      background-color: #E2EBFA;\n",
              "      box-shadow: 0px 1px 2px rgba(60, 64, 67, 0.3), 0px 1px 3px 1px rgba(60, 64, 67, 0.15);\n",
              "      fill: #174EA6;\n",
              "    }\n",
              "\n",
              "    .colab-df-buttons div {\n",
              "      margin-bottom: 4px;\n",
              "    }\n",
              "\n",
              "    [theme=dark] .colab-df-convert {\n",
              "      background-color: #3B4455;\n",
              "      fill: #D2E3FC;\n",
              "    }\n",
              "\n",
              "    [theme=dark] .colab-df-convert:hover {\n",
              "      background-color: #434B5C;\n",
              "      box-shadow: 0px 1px 3px 1px rgba(0, 0, 0, 0.15);\n",
              "      filter: drop-shadow(0px 1px 2px rgba(0, 0, 0, 0.3));\n",
              "      fill: #FFFFFF;\n",
              "    }\n",
              "  </style>\n",
              "\n",
              "    <script>\n",
              "      const buttonEl =\n",
              "        document.querySelector('#df-ca3a155f-0db8-462e-97ea-fbb9c3f31919 button.colab-df-convert');\n",
              "      buttonEl.style.display =\n",
              "        google.colab.kernel.accessAllowed ? 'block' : 'none';\n",
              "\n",
              "      async function convertToInteractive(key) {\n",
              "        const element = document.querySelector('#df-ca3a155f-0db8-462e-97ea-fbb9c3f31919');\n",
              "        const dataTable =\n",
              "          await google.colab.kernel.invokeFunction('convertToInteractive',\n",
              "                                                    [key], {});\n",
              "        if (!dataTable) return;\n",
              "\n",
              "        const docLinkHtml = 'Like what you see? Visit the ' +\n",
              "          '<a target=\"_blank\" href=https://colab.research.google.com/notebooks/data_table.ipynb>data table notebook</a>'\n",
              "          + ' to learn more about interactive tables.';\n",
              "        element.innerHTML = '';\n",
              "        dataTable['output_type'] = 'display_data';\n",
              "        await google.colab.output.renderOutput(dataTable, element);\n",
              "        const docLink = document.createElement('div');\n",
              "        docLink.innerHTML = docLinkHtml;\n",
              "        element.appendChild(docLink);\n",
              "      }\n",
              "    </script>\n",
              "  </div>\n",
              "\n",
              "\n",
              "<div id=\"df-e53015b2-d2f1-4ff9-ab1f-7309afec2eff\">\n",
              "  <button class=\"colab-df-quickchart\" onclick=\"quickchart('df-e53015b2-d2f1-4ff9-ab1f-7309afec2eff')\"\n",
              "            title=\"Suggest charts\"\n",
              "            style=\"display:none;\">\n",
              "\n",
              "<svg xmlns=\"http://www.w3.org/2000/svg\" height=\"24px\"viewBox=\"0 0 24 24\"\n",
              "     width=\"24px\">\n",
              "    <g>\n",
              "        <path d=\"M19 3H5c-1.1 0-2 .9-2 2v14c0 1.1.9 2 2 2h14c1.1 0 2-.9 2-2V5c0-1.1-.9-2-2-2zM9 17H7v-7h2v7zm4 0h-2V7h2v10zm4 0h-2v-4h2v4z\"/>\n",
              "    </g>\n",
              "</svg>\n",
              "  </button>\n",
              "\n",
              "<style>\n",
              "  .colab-df-quickchart {\n",
              "      --bg-color: #E8F0FE;\n",
              "      --fill-color: #1967D2;\n",
              "      --hover-bg-color: #E2EBFA;\n",
              "      --hover-fill-color: #174EA6;\n",
              "      --disabled-fill-color: #AAA;\n",
              "      --disabled-bg-color: #DDD;\n",
              "  }\n",
              "\n",
              "  [theme=dark] .colab-df-quickchart {\n",
              "      --bg-color: #3B4455;\n",
              "      --fill-color: #D2E3FC;\n",
              "      --hover-bg-color: #434B5C;\n",
              "      --hover-fill-color: #FFFFFF;\n",
              "      --disabled-bg-color: #3B4455;\n",
              "      --disabled-fill-color: #666;\n",
              "  }\n",
              "\n",
              "  .colab-df-quickchart {\n",
              "    background-color: var(--bg-color);\n",
              "    border: none;\n",
              "    border-radius: 50%;\n",
              "    cursor: pointer;\n",
              "    display: none;\n",
              "    fill: var(--fill-color);\n",
              "    height: 32px;\n",
              "    padding: 0;\n",
              "    width: 32px;\n",
              "  }\n",
              "\n",
              "  .colab-df-quickchart:hover {\n",
              "    background-color: var(--hover-bg-color);\n",
              "    box-shadow: 0 1px 2px rgba(60, 64, 67, 0.3), 0 1px 3px 1px rgba(60, 64, 67, 0.15);\n",
              "    fill: var(--button-hover-fill-color);\n",
              "  }\n",
              "\n",
              "  .colab-df-quickchart-complete:disabled,\n",
              "  .colab-df-quickchart-complete:disabled:hover {\n",
              "    background-color: var(--disabled-bg-color);\n",
              "    fill: var(--disabled-fill-color);\n",
              "    box-shadow: none;\n",
              "  }\n",
              "\n",
              "  .colab-df-spinner {\n",
              "    border: 2px solid var(--fill-color);\n",
              "    border-color: transparent;\n",
              "    border-bottom-color: var(--fill-color);\n",
              "    animation:\n",
              "      spin 1s steps(1) infinite;\n",
              "  }\n",
              "\n",
              "  @keyframes spin {\n",
              "    0% {\n",
              "      border-color: transparent;\n",
              "      border-bottom-color: var(--fill-color);\n",
              "      border-left-color: var(--fill-color);\n",
              "    }\n",
              "    20% {\n",
              "      border-color: transparent;\n",
              "      border-left-color: var(--fill-color);\n",
              "      border-top-color: var(--fill-color);\n",
              "    }\n",
              "    30% {\n",
              "      border-color: transparent;\n",
              "      border-left-color: var(--fill-color);\n",
              "      border-top-color: var(--fill-color);\n",
              "      border-right-color: var(--fill-color);\n",
              "    }\n",
              "    40% {\n",
              "      border-color: transparent;\n",
              "      border-right-color: var(--fill-color);\n",
              "      border-top-color: var(--fill-color);\n",
              "    }\n",
              "    60% {\n",
              "      border-color: transparent;\n",
              "      border-right-color: var(--fill-color);\n",
              "    }\n",
              "    80% {\n",
              "      border-color: transparent;\n",
              "      border-right-color: var(--fill-color);\n",
              "      border-bottom-color: var(--fill-color);\n",
              "    }\n",
              "    90% {\n",
              "      border-color: transparent;\n",
              "      border-bottom-color: var(--fill-color);\n",
              "    }\n",
              "  }\n",
              "</style>\n",
              "\n",
              "  <script>\n",
              "    async function quickchart(key) {\n",
              "      const quickchartButtonEl =\n",
              "        document.querySelector('#' + key + ' button');\n",
              "      quickchartButtonEl.disabled = true;  // To prevent multiple clicks.\n",
              "      quickchartButtonEl.classList.add('colab-df-spinner');\n",
              "      try {\n",
              "        const charts = await google.colab.kernel.invokeFunction(\n",
              "            'suggestCharts', [key], {});\n",
              "      } catch (error) {\n",
              "        console.error('Error during call to suggestCharts:', error);\n",
              "      }\n",
              "      quickchartButtonEl.classList.remove('colab-df-spinner');\n",
              "      quickchartButtonEl.classList.add('colab-df-quickchart-complete');\n",
              "    }\n",
              "    (() => {\n",
              "      let quickchartButtonEl =\n",
              "        document.querySelector('#df-e53015b2-d2f1-4ff9-ab1f-7309afec2eff button');\n",
              "      quickchartButtonEl.style.display =\n",
              "        google.colab.kernel.accessAllowed ? 'block' : 'none';\n",
              "    })();\n",
              "  </script>\n",
              "</div>\n",
              "\n",
              "    </div>\n",
              "  </div>\n"
            ],
            "application/vnd.google.colaboratory.intrinsic+json": {
              "type": "dataframe",
              "summary": "{\n  \"name\": \"df_final\",\n  \"rows\": 20,\n  \"fields\": [\n    {\n      \"column\": \"Unnamed: 0\",\n      \"properties\": {\n        \"dtype\": \"number\",\n        \"std\": 1,\n        \"min\": 5,\n        \"max\": 14,\n        \"num_unique_values\": 4,\n        \"samples\": [\n          5,\n          11,\n          10\n        ],\n        \"semantic_type\": \"\",\n        \"description\": \"\"\n      }\n    },\n    {\n      \"column\": \"group\",\n      \"properties\": {\n        \"dtype\": \"number\",\n        \"std\": 1,\n        \"min\": 5,\n        \"max\": 14,\n        \"num_unique_values\": 4,\n        \"samples\": [\n          5,\n          11,\n          10\n        ],\n        \"semantic_type\": \"\",\n        \"description\": \"\"\n      }\n    },\n    {\n      \"column\": \"filtered_words\",\n      \"properties\": {\n        \"dtype\": \"number\",\n        \"std\": 1,\n        \"min\": 5,\n        \"max\": 14,\n        \"num_unique_values\": 4,\n        \"samples\": [\n          5,\n          11,\n          10\n        ],\n        \"semantic_type\": \"\",\n        \"description\": \"\"\n      }\n    },\n    {\n      \"column\": \"determiner_noun_phrase_ratio\",\n      \"properties\": {\n        \"dtype\": \"number\",\n        \"std\": 1,\n        \"min\": 5,\n        \"max\": 14,\n        \"num_unique_values\": 4,\n        \"samples\": [\n          5,\n          11,\n          10\n        ],\n        \"semantic_type\": \"\",\n        \"description\": \"\"\n      }\n    },\n    {\n      \"column\": \"past_tense_verbs\",\n      \"properties\": {\n        \"dtype\": \"number\",\n        \"std\": 1,\n        \"min\": 5,\n        \"max\": 14,\n        \"num_unique_values\": 4,\n        \"samples\": [\n          5,\n          11,\n          10\n        ],\n        \"semantic_type\": \"\",\n        \"description\": \"\"\n      }\n    },\n    {\n      \"column\": \"word_count_snip\",\n      \"properties\": {\n        \"dtype\": \"number\",\n        \"std\": 1,\n        \"min\": 5,\n        \"max\": 14,\n        \"num_unique_values\": 4,\n        \"samples\": [\n          5,\n          11,\n          10\n        ],\n        \"semantic_type\": \"\",\n        \"description\": \"\"\n      }\n    },\n    {\n      \"column\": \"vp_np_ratio\",\n      \"properties\": {\n        \"dtype\": \"number\",\n        \"std\": 1,\n        \"min\": 5,\n        \"max\": 14,\n        \"num_unique_values\": 4,\n        \"samples\": [\n          5,\n          11,\n          10\n        ],\n        \"semantic_type\": \"\",\n        \"description\": \"\"\n      }\n    },\n    {\n      \"column\": \"coordinate_phrases_ratio\",\n      \"properties\": {\n        \"dtype\": \"number\",\n        \"std\": 1,\n        \"min\": 5,\n        \"max\": 14,\n        \"num_unique_values\": 4,\n        \"samples\": [\n          5,\n          11,\n          10\n        ],\n        \"semantic_type\": \"\",\n        \"description\": \"\"\n      }\n    },\n    {\n      \"column\": \"subordinate_ratio\",\n      \"properties\": {\n        \"dtype\": \"number\",\n        \"std\": 1,\n        \"min\": 5,\n        \"max\": 14,\n        \"num_unique_values\": 4,\n        \"samples\": [\n          5,\n          11,\n          10\n        ],\n        \"semantic_type\": \"\",\n        \"description\": \"\"\n      }\n    },\n    {\n      \"column\": \"avg_word_length\",\n      \"properties\": {\n        \"dtype\": \"number\",\n        \"std\": 1,\n        \"min\": 5,\n        \"max\": 14,\n        \"num_unique_values\": 4,\n        \"samples\": [\n          5,\n          11,\n          10\n        ],\n        \"semantic_type\": \"\",\n        \"description\": \"\"\n      }\n    },\n    {\n      \"column\": \"proportion_subjects\",\n      \"properties\": {\n        \"dtype\": \"number\",\n        \"std\": 1,\n        \"min\": 5,\n        \"max\": 14,\n        \"num_unique_values\": 4,\n        \"samples\": [\n          5,\n          11,\n          10\n        ],\n        \"semantic_type\": \"\",\n        \"description\": \"\"\n      }\n    },\n    {\n      \"column\": \"SUBTL_score_mean\",\n      \"properties\": {\n        \"dtype\": \"number\",\n        \"std\": 1,\n        \"min\": 5,\n        \"max\": 14,\n        \"num_unique_values\": 4,\n        \"samples\": [\n          5,\n          11,\n          10\n        ],\n        \"semantic_type\": \"\",\n        \"description\": \"\"\n      }\n    }\n  ]\n}"
            }
          },
          "metadata": {},
          "execution_count": 10
        }
      ]
    },
    {
      "cell_type": "markdown",
      "source": [
        "## Run for each author"
      ],
      "metadata": {
        "id": "W6z9l71Oe5Qa"
      }
    },
    {
      "cell_type": "code",
      "source": [
        "def prompt_on_topic_wo_bias(author, seed, essay_topic, use_train):\n",
        "\n",
        "  prompt = \"\"\"Your task is to generate podcast intros in the style of the author. Below are ten examples of the author's entries. Analyze these examples to understand the style, tone, and structure used. Then, create a new podcast transcript that mimics this style.\n",
        "\n",
        "  Examples:\"\"\"\n",
        "  if use_train:\n",
        "    print(\"Using train subset for prompt generation\")\n",
        "    samples = df_final.loc[(df_final['ID'] == author) & (df_final['split'] == \"train\"), 'filtered_words'].sample(frac = 1, random_state = seed)\n",
        "  else:\n",
        "    print(f\"Generating samples with seed {seed}\")\n",
        "    samples = df_final.loc[(df_final['ID'] == author), 'filtered_words'].sample(n=10, random_state = seed)\n",
        "  example_no = 1\n",
        "  for sample in samples:\n",
        "    prompt+= f\"\"\"\n",
        "\n",
        "    Example {example_no}:\n",
        "    {sample}\"\"\"\n",
        "    example_no +=1\n",
        "\n",
        "  prompt += f\"\\n\\nWrite a blog entry on {essay_topic}\"\n",
        "\n",
        "  return prompt"
      ],
      "metadata": {
        "id": "_0LkfBDG6l0F"
      },
      "execution_count": 13,
      "outputs": []
    },
    {
      "cell_type": "code",
      "source": [
        "# def prompt_on_topic_w_bias(author, seed, essay_topic, use_train):\n",
        "\n",
        "#   prompt = \"\"\"Your task is to write a blog entry in the writing style of the author with dementia. Below are ten examples of the author's entries. Analyze these examples to understand the style, tone, and structure used. Then, create a new blog entry that mimics this style.\n",
        "\n",
        "#   Examples:\"\"\"\n",
        "\n",
        "#   if use_train:\n",
        "#     print(\"Using train subset for prompt generation\")\n",
        "#     samples = df_final.loc[(df_final['ID'] == author) & (df_final['split'] == \"train\"), 'filtered_words'].sample(frac = 1, random_state = seed)\n",
        "#   else:\n",
        "#     print(f\"Generating samples with seed {seed}\")\n",
        "#     samples = df_final.loc[(df_final['ID'] == author), 'filtered_words'].sample(n=10, random_state = seed)\n",
        "#   example_no = 1\n",
        "#   for sample in samples:\n",
        "#     prompt+= f\"\"\"\n",
        "\n",
        "#     Example {example_no}:\n",
        "#     {sample}\"\"\"\n",
        "#     example_no +=1\n",
        "\n",
        "#   prompt += f\"\\n\\nWrite a blog entry on {essay_topic}\"\n",
        "\n",
        "#   return prompt"
      ],
      "metadata": {
        "id": "1-jHaWt86VK5"
      },
      "execution_count": null,
      "outputs": []
    },
    {
      "cell_type": "code",
      "source": [
        "def get_gpt3_predictions(prompts, model='gpt-3.5-turbo'):\n",
        "    \"\"\"\n",
        "    Generate predictions for a list of prompts using GPT-3.5.\n",
        "\n",
        "    Args:\n",
        "    prompts (list of str): List of prompts to generate predictions for.\n",
        "    model (str): The model to use for predictions (default: 'gpt-3.5-turbo').\n",
        "\n",
        "    Returns:\n",
        "    list of str: List of predictions generated by GPT-3.5.\n",
        "    \"\"\"\n",
        "    predictions = []\n",
        "\n",
        "    for prompt in tqdm.tqdm(prompts):\n",
        "        response = client.chat.completions.create(\n",
        "    messages=[\n",
        "        {\n",
        "            \"role\": \"user\",\n",
        "            \"content\": prompt,\n",
        "        }\n",
        "    ],\n",
        "    model=\"gpt-3.5-turbo-0125\",\n",
        "    temperature = 0,\n",
        ")\n",
        "        prediction = response.choices[0].message.content.strip()\n",
        "        predictions.append(prediction)\n",
        "\n",
        "    return predictions"
      ],
      "metadata": {
        "id": "QVFGuYaV9t2q"
      },
      "execution_count": 12,
      "outputs": []
    },
    {
      "cell_type": "code",
      "source": [
        "import tqdm"
      ],
      "metadata": {
        "id": "RRoBz3PiytEb"
      },
      "execution_count": 14,
      "outputs": []
    },
    {
      "cell_type": "code",
      "source": [
        "authors = df_final['ID'].unique()"
      ],
      "metadata": {
        "id": "CS0Dh9cLxzP5"
      },
      "execution_count": 15,
      "outputs": []
    },
    {
      "cell_type": "code",
      "source": [
        "authors_out = []\n",
        "prompts_out = []\n",
        "predictions_out = []"
      ],
      "metadata": {
        "id": "XmQ-eBESyftl"
      },
      "execution_count": 16,
      "outputs": []
    },
    {
      "cell_type": "code",
      "source": [
        "authors_out_train = []\n",
        "prompts_out_train = []\n",
        "predictions_out_train = []"
      ],
      "metadata": {
        "id": "lCznzh9ZxveQ"
      },
      "execution_count": 18,
      "outputs": []
    },
    {
      "cell_type": "code",
      "source": [
        "#Version 1 - running predictions on 10-row \"train set\"\n",
        "seed = 42\n",
        "for author in df_final['ID'].unique():\n",
        "  print(f\"parsing author {author}\")\n",
        "  #samples = df_final.loc[(df_final['ID'] == author) & (df_final['split'] == \"train\"), 'filtered_words'].sample(frac = 1, random_state = 42)\n",
        "  #samples = df_final.loc[(df_final['ID'] == author), 'filtered_words'].sample(n=10, random_state = seed)\n",
        "  prompts_first_speaker = [prompt_on_topic_wo_bias(author, seed, topic, use_train = True) for topic in new_essay_topics]\n",
        "  predictions = get_gpt3_predictions(prompts_first_speaker)\n",
        "  authors_out_train += [author]*len(predictions)\n",
        "  prompts_out_train += prompts_first_speaker\n",
        "  predictions_out_train += predictions"
      ],
      "metadata": {
        "colab": {
          "base_uri": "https://localhost:8080/"
        },
        "id": "kM3fu8o5w7fw",
        "outputId": "1b4720b2-38c8-459c-9e26-f1aa56ce1545"
      },
      "execution_count": 19,
      "outputs": [
        {
          "output_type": "stream",
          "name": "stdout",
          "text": [
            "parsing author dem1\n",
            "Using train subset for prompt generation\n",
            "Using train subset for prompt generation\n",
            "Using train subset for prompt generation\n",
            "Using train subset for prompt generation\n",
            "Using train subset for prompt generation\n",
            "Using train subset for prompt generation\n",
            "Using train subset for prompt generation\n",
            "Using train subset for prompt generation\n",
            "Using train subset for prompt generation\n",
            "Using train subset for prompt generation\n",
            "Using train subset for prompt generation\n",
            "Using train subset for prompt generation\n",
            "Using train subset for prompt generation\n",
            "Using train subset for prompt generation\n",
            "Using train subset for prompt generation\n",
            "Using train subset for prompt generation\n",
            "Using train subset for prompt generation\n",
            "Using train subset for prompt generation\n",
            "Using train subset for prompt generation\n",
            "Using train subset for prompt generation\n"
          ]
        },
        {
          "output_type": "stream",
          "name": "stderr",
          "text": [
            "100%|██████████| 20/20 [01:46<00:00,  5.31s/it]\n"
          ]
        },
        {
          "output_type": "stream",
          "name": "stdout",
          "text": [
            "parsing author dem3\n",
            "Using train subset for prompt generation\n",
            "Using train subset for prompt generation\n",
            "Using train subset for prompt generation\n",
            "Using train subset for prompt generation\n",
            "Using train subset for prompt generation\n",
            "Using train subset for prompt generation\n",
            "Using train subset for prompt generation\n",
            "Using train subset for prompt generation\n",
            "Using train subset for prompt generation\n",
            "Using train subset for prompt generation\n",
            "Using train subset for prompt generation\n",
            "Using train subset for prompt generation\n",
            "Using train subset for prompt generation\n",
            "Using train subset for prompt generation\n",
            "Using train subset for prompt generation\n",
            "Using train subset for prompt generation\n",
            "Using train subset for prompt generation\n",
            "Using train subset for prompt generation\n",
            "Using train subset for prompt generation\n",
            "Using train subset for prompt generation\n"
          ]
        },
        {
          "output_type": "stream",
          "name": "stderr",
          "text": [
            "100%|██████████| 20/20 [01:42<00:00,  5.10s/it]\n"
          ]
        },
        {
          "output_type": "stream",
          "name": "stdout",
          "text": [
            "parsing author dem6\n",
            "Using train subset for prompt generation\n",
            "Using train subset for prompt generation\n",
            "Using train subset for prompt generation\n",
            "Using train subset for prompt generation\n",
            "Using train subset for prompt generation\n",
            "Using train subset for prompt generation\n",
            "Using train subset for prompt generation\n",
            "Using train subset for prompt generation\n",
            "Using train subset for prompt generation\n",
            "Using train subset for prompt generation\n",
            "Using train subset for prompt generation\n",
            "Using train subset for prompt generation\n",
            "Using train subset for prompt generation\n",
            "Using train subset for prompt generation\n",
            "Using train subset for prompt generation\n",
            "Using train subset for prompt generation\n",
            "Using train subset for prompt generation\n",
            "Using train subset for prompt generation\n",
            "Using train subset for prompt generation\n",
            "Using train subset for prompt generation\n"
          ]
        },
        {
          "output_type": "stream",
          "name": "stderr",
          "text": [
            "100%|██████████| 20/20 [01:23<00:00,  4.16s/it]\n"
          ]
        },
        {
          "output_type": "stream",
          "name": "stdout",
          "text": [
            "parsing author dem10\n",
            "Using train subset for prompt generation\n",
            "Using train subset for prompt generation\n",
            "Using train subset for prompt generation\n",
            "Using train subset for prompt generation\n",
            "Using train subset for prompt generation\n",
            "Using train subset for prompt generation\n",
            "Using train subset for prompt generation\n",
            "Using train subset for prompt generation\n",
            "Using train subset for prompt generation\n",
            "Using train subset for prompt generation\n",
            "Using train subset for prompt generation\n",
            "Using train subset for prompt generation\n",
            "Using train subset for prompt generation\n",
            "Using train subset for prompt generation\n",
            "Using train subset for prompt generation\n",
            "Using train subset for prompt generation\n",
            "Using train subset for prompt generation\n",
            "Using train subset for prompt generation\n",
            "Using train subset for prompt generation\n",
            "Using train subset for prompt generation\n"
          ]
        },
        {
          "output_type": "stream",
          "name": "stderr",
          "text": [
            "100%|██████████| 20/20 [01:31<00:00,  4.55s/it]\n"
          ]
        },
        {
          "output_type": "stream",
          "name": "stdout",
          "text": [
            "parsing author dem11\n",
            "Using train subset for prompt generation\n",
            "Using train subset for prompt generation\n",
            "Using train subset for prompt generation\n",
            "Using train subset for prompt generation\n",
            "Using train subset for prompt generation\n",
            "Using train subset for prompt generation\n",
            "Using train subset for prompt generation\n",
            "Using train subset for prompt generation\n",
            "Using train subset for prompt generation\n",
            "Using train subset for prompt generation\n",
            "Using train subset for prompt generation\n",
            "Using train subset for prompt generation\n",
            "Using train subset for prompt generation\n",
            "Using train subset for prompt generation\n",
            "Using train subset for prompt generation\n",
            "Using train subset for prompt generation\n",
            "Using train subset for prompt generation\n",
            "Using train subset for prompt generation\n",
            "Using train subset for prompt generation\n",
            "Using train subset for prompt generation\n"
          ]
        },
        {
          "output_type": "stream",
          "name": "stderr",
          "text": [
            "100%|██████████| 20/20 [01:28<00:00,  4.44s/it]\n"
          ]
        },
        {
          "output_type": "stream",
          "name": "stdout",
          "text": [
            "parsing author con1\n",
            "Using train subset for prompt generation\n",
            "Using train subset for prompt generation\n",
            "Using train subset for prompt generation\n",
            "Using train subset for prompt generation\n",
            "Using train subset for prompt generation\n",
            "Using train subset for prompt generation\n",
            "Using train subset for prompt generation\n",
            "Using train subset for prompt generation\n",
            "Using train subset for prompt generation\n",
            "Using train subset for prompt generation\n",
            "Using train subset for prompt generation\n",
            "Using train subset for prompt generation\n",
            "Using train subset for prompt generation\n",
            "Using train subset for prompt generation\n",
            "Using train subset for prompt generation\n",
            "Using train subset for prompt generation\n",
            "Using train subset for prompt generation\n",
            "Using train subset for prompt generation\n",
            "Using train subset for prompt generation\n",
            "Using train subset for prompt generation\n"
          ]
        },
        {
          "output_type": "stream",
          "name": "stderr",
          "text": [
            "100%|██████████| 20/20 [01:50<00:00,  5.54s/it]\n"
          ]
        },
        {
          "output_type": "stream",
          "name": "stdout",
          "text": [
            "parsing author con2\n",
            "Using train subset for prompt generation\n",
            "Using train subset for prompt generation\n",
            "Using train subset for prompt generation\n",
            "Using train subset for prompt generation\n",
            "Using train subset for prompt generation\n",
            "Using train subset for prompt generation\n",
            "Using train subset for prompt generation\n",
            "Using train subset for prompt generation\n",
            "Using train subset for prompt generation\n",
            "Using train subset for prompt generation\n",
            "Using train subset for prompt generation\n",
            "Using train subset for prompt generation\n",
            "Using train subset for prompt generation\n",
            "Using train subset for prompt generation\n",
            "Using train subset for prompt generation\n",
            "Using train subset for prompt generation\n",
            "Using train subset for prompt generation\n",
            "Using train subset for prompt generation\n",
            "Using train subset for prompt generation\n",
            "Using train subset for prompt generation\n"
          ]
        },
        {
          "output_type": "stream",
          "name": "stderr",
          "text": [
            "100%|██████████| 20/20 [01:38<00:00,  4.92s/it]\n"
          ]
        },
        {
          "output_type": "stream",
          "name": "stdout",
          "text": [
            "parsing author con4\n",
            "Using train subset for prompt generation\n",
            "Using train subset for prompt generation\n",
            "Using train subset for prompt generation\n",
            "Using train subset for prompt generation\n",
            "Using train subset for prompt generation\n",
            "Using train subset for prompt generation\n",
            "Using train subset for prompt generation\n",
            "Using train subset for prompt generation\n",
            "Using train subset for prompt generation\n",
            "Using train subset for prompt generation\n",
            "Using train subset for prompt generation\n",
            "Using train subset for prompt generation\n",
            "Using train subset for prompt generation\n",
            "Using train subset for prompt generation\n",
            "Using train subset for prompt generation\n",
            "Using train subset for prompt generation\n",
            "Using train subset for prompt generation\n",
            "Using train subset for prompt generation\n",
            "Using train subset for prompt generation\n",
            "Using train subset for prompt generation\n"
          ]
        },
        {
          "output_type": "stream",
          "name": "stderr",
          "text": [
            "100%|██████████| 20/20 [01:40<00:00,  5.01s/it]\n"
          ]
        },
        {
          "output_type": "stream",
          "name": "stdout",
          "text": [
            "parsing author con5\n",
            "Using train subset for prompt generation\n",
            "Using train subset for prompt generation\n",
            "Using train subset for prompt generation\n",
            "Using train subset for prompt generation\n",
            "Using train subset for prompt generation\n",
            "Using train subset for prompt generation\n",
            "Using train subset for prompt generation\n",
            "Using train subset for prompt generation\n",
            "Using train subset for prompt generation\n",
            "Using train subset for prompt generation\n",
            "Using train subset for prompt generation\n",
            "Using train subset for prompt generation\n",
            "Using train subset for prompt generation\n",
            "Using train subset for prompt generation\n",
            "Using train subset for prompt generation\n",
            "Using train subset for prompt generation\n",
            "Using train subset for prompt generation\n",
            "Using train subset for prompt generation\n",
            "Using train subset for prompt generation\n",
            "Using train subset for prompt generation\n"
          ]
        },
        {
          "output_type": "stream",
          "name": "stderr",
          "text": [
            "100%|██████████| 20/20 [01:47<00:00,  5.35s/it]\n"
          ]
        },
        {
          "output_type": "stream",
          "name": "stdout",
          "text": [
            "parsing author con6\n",
            "Using train subset for prompt generation\n",
            "Using train subset for prompt generation\n",
            "Using train subset for prompt generation\n",
            "Using train subset for prompt generation\n",
            "Using train subset for prompt generation\n",
            "Using train subset for prompt generation\n",
            "Using train subset for prompt generation\n",
            "Using train subset for prompt generation\n",
            "Using train subset for prompt generation\n",
            "Using train subset for prompt generation\n",
            "Using train subset for prompt generation\n",
            "Using train subset for prompt generation\n",
            "Using train subset for prompt generation\n",
            "Using train subset for prompt generation\n",
            "Using train subset for prompt generation\n",
            "Using train subset for prompt generation\n",
            "Using train subset for prompt generation\n",
            "Using train subset for prompt generation\n",
            "Using train subset for prompt generation\n",
            "Using train subset for prompt generation\n"
          ]
        },
        {
          "output_type": "stream",
          "name": "stderr",
          "text": [
            "100%|██████████| 20/20 [01:49<00:00,  5.46s/it]\n"
          ]
        }
      ]
    },
    {
      "cell_type": "code",
      "source": [
        "#Version 2 - running predictions on constantly shuffled 10 rows\n",
        "for author in df_final['ID'].unique():\n",
        "  print(f\"parsing author {author}\")\n",
        "  seed = 42\n",
        "  #samples = df_final.loc[(df_final['ID'] == author) & (df_final['split'] == \"train\"), 'filtered_words'].sample(frac = 1, random_state = 42)\n",
        "  #samples = df_final.loc[(df_final['ID'] == author), 'filtered_words'].sample(n=10, random_state = seed)\n",
        "  prompts_first_speaker = [prompt_on_topic_wo_bias(author, seed + i, topic, use_train = False) for i, topic in enumerate(new_essay_topics)]\n",
        "  predictions = get_gpt3_predictions(prompts_first_speaker)\n",
        "  authors_out += [author]*len(predictions)\n",
        "  prompts_out += prompts_first_speaker\n",
        "  predictions_out += predictions"
      ],
      "metadata": {
        "id": "-Bd-mPxTx5x8",
        "colab": {
          "base_uri": "https://localhost:8080/"
        },
        "outputId": "196802ab-d32d-44cd-a872-2a2433dfb2cd"
      },
      "execution_count": null,
      "outputs": [
        {
          "output_type": "stream",
          "name": "stdout",
          "text": [
            "parsing author dem1\n"
          ]
        },
        {
          "output_type": "stream",
          "name": "stderr",
          "text": [
            "100%|██████████| 20/20 [01:52<00:00,  5.61s/it]\n"
          ]
        },
        {
          "output_type": "stream",
          "name": "stdout",
          "text": [
            "parsing author dem3\n"
          ]
        },
        {
          "output_type": "stream",
          "name": "stderr",
          "text": [
            "100%|██████████| 20/20 [01:59<00:00,  5.96s/it]\n"
          ]
        },
        {
          "output_type": "stream",
          "name": "stdout",
          "text": [
            "parsing author dem6\n"
          ]
        },
        {
          "output_type": "stream",
          "name": "stderr",
          "text": [
            "100%|██████████| 20/20 [01:51<00:00,  5.58s/it]\n"
          ]
        },
        {
          "output_type": "stream",
          "name": "stdout",
          "text": [
            "parsing author dem10\n"
          ]
        },
        {
          "output_type": "stream",
          "name": "stderr",
          "text": [
            "100%|██████████| 20/20 [01:50<00:00,  5.53s/it]\n"
          ]
        },
        {
          "output_type": "stream",
          "name": "stdout",
          "text": [
            "parsing author dem11\n"
          ]
        },
        {
          "output_type": "stream",
          "name": "stderr",
          "text": [
            "100%|██████████| 20/20 [01:56<00:00,  5.84s/it]\n"
          ]
        },
        {
          "output_type": "stream",
          "name": "stdout",
          "text": [
            "parsing author con1\n"
          ]
        },
        {
          "output_type": "stream",
          "name": "stderr",
          "text": [
            "100%|██████████| 20/20 [02:06<00:00,  6.32s/it]\n"
          ]
        },
        {
          "output_type": "stream",
          "name": "stdout",
          "text": [
            "parsing author con2\n"
          ]
        },
        {
          "output_type": "stream",
          "name": "stderr",
          "text": [
            "100%|██████████| 20/20 [02:11<00:00,  6.55s/it]\n"
          ]
        },
        {
          "output_type": "stream",
          "name": "stdout",
          "text": [
            "parsing author con4\n"
          ]
        },
        {
          "output_type": "stream",
          "name": "stderr",
          "text": [
            "100%|██████████| 20/20 [02:06<00:00,  6.34s/it]\n"
          ]
        },
        {
          "output_type": "stream",
          "name": "stdout",
          "text": [
            "parsing author con5\n"
          ]
        },
        {
          "output_type": "stream",
          "name": "stderr",
          "text": [
            "100%|██████████| 20/20 [02:13<00:00,  6.68s/it]\n"
          ]
        },
        {
          "output_type": "stream",
          "name": "stdout",
          "text": [
            "parsing author con6\n"
          ]
        },
        {
          "output_type": "stream",
          "name": "stderr",
          "text": [
            "100%|██████████| 20/20 [01:53<00:00,  5.66s/it]\n"
          ]
        }
      ]
    },
    {
      "cell_type": "code",
      "source": [
        "unbiased_predictions = pd.DataFrame(data= {'ID': authors_out, 'prompt': prompts_out, 'prediction': predictions_out})"
      ],
      "metadata": {
        "id": "Gy5SAldo5lse"
      },
      "execution_count": null,
      "outputs": []
    },
    {
      "cell_type": "code",
      "source": [
        "unbiased_predictions"
      ],
      "metadata": {
        "colab": {
          "base_uri": "https://localhost:8080/",
          "height": 423
        },
        "id": "AxVjlRPi50Z5",
        "outputId": "6ff21483-7415-4f7e-93a5-f434d3e47043"
      },
      "execution_count": null,
      "outputs": [
        {
          "output_type": "execute_result",
          "data": {
            "text/plain": [
              "       ID                                             prompt  \\\n",
              "0    dem1  Your task is to write a blog entry in the writ...   \n",
              "1    dem1  Your task is to write a blog entry in the writ...   \n",
              "2    dem1  Your task is to write a blog entry in the writ...   \n",
              "3    dem1  Your task is to write a blog entry in the writ...   \n",
              "4    dem1  Your task is to write a blog entry in the writ...   \n",
              "..    ...                                                ...   \n",
              "195  con6  Your task is to write a blog entry in the writ...   \n",
              "196  con6  Your task is to write a blog entry in the writ...   \n",
              "197  con6  Your task is to write a blog entry in the writ...   \n",
              "198  con6  Your task is to write a blog entry in the writ...   \n",
              "199  con6  Your task is to write a blog entry in the writ...   \n",
              "\n",
              "                                            prediction  \n",
              "0    Good morning, everyone! It's Agnes from Coatbr...  \n",
              "1    Good morning, everyone! It's Agnes from Coatbr...  \n",
              "2    Good morning, everyone. It's Agnes from Coatbr...  \n",
              "3    Good morning, everyone! It's Agnes from Coatbr...  \n",
              "4    Good morning everybody, it's Agnes from Coatbr...  \n",
              "..                                                 ...  \n",
              "195  Welcome to The Overwhelmed Brain, where we div...  \n",
              "196  Welcome to The Overwhelmed Brain, where we div...  \n",
              "197  As the seasons change, so do the activities an...  \n",
              "198  Welcome to The Overwhelmed Brain, where we div...  \n",
              "199  Have you ever looked around your home and felt...  \n",
              "\n",
              "[200 rows x 3 columns]"
            ],
            "text/html": [
              "\n",
              "  <div id=\"df-9d0bea98-106b-4949-9a01-258ed9329df3\" class=\"colab-df-container\">\n",
              "    <div>\n",
              "<style scoped>\n",
              "    .dataframe tbody tr th:only-of-type {\n",
              "        vertical-align: middle;\n",
              "    }\n",
              "\n",
              "    .dataframe tbody tr th {\n",
              "        vertical-align: top;\n",
              "    }\n",
              "\n",
              "    .dataframe thead th {\n",
              "        text-align: right;\n",
              "    }\n",
              "</style>\n",
              "<table border=\"1\" class=\"dataframe\">\n",
              "  <thead>\n",
              "    <tr style=\"text-align: right;\">\n",
              "      <th></th>\n",
              "      <th>ID</th>\n",
              "      <th>prompt</th>\n",
              "      <th>prediction</th>\n",
              "    </tr>\n",
              "  </thead>\n",
              "  <tbody>\n",
              "    <tr>\n",
              "      <th>0</th>\n",
              "      <td>dem1</td>\n",
              "      <td>Your task is to write a blog entry in the writ...</td>\n",
              "      <td>Good morning, everyone! It's Agnes from Coatbr...</td>\n",
              "    </tr>\n",
              "    <tr>\n",
              "      <th>1</th>\n",
              "      <td>dem1</td>\n",
              "      <td>Your task is to write a blog entry in the writ...</td>\n",
              "      <td>Good morning, everyone! It's Agnes from Coatbr...</td>\n",
              "    </tr>\n",
              "    <tr>\n",
              "      <th>2</th>\n",
              "      <td>dem1</td>\n",
              "      <td>Your task is to write a blog entry in the writ...</td>\n",
              "      <td>Good morning, everyone. It's Agnes from Coatbr...</td>\n",
              "    </tr>\n",
              "    <tr>\n",
              "      <th>3</th>\n",
              "      <td>dem1</td>\n",
              "      <td>Your task is to write a blog entry in the writ...</td>\n",
              "      <td>Good morning, everyone! It's Agnes from Coatbr...</td>\n",
              "    </tr>\n",
              "    <tr>\n",
              "      <th>4</th>\n",
              "      <td>dem1</td>\n",
              "      <td>Your task is to write a blog entry in the writ...</td>\n",
              "      <td>Good morning everybody, it's Agnes from Coatbr...</td>\n",
              "    </tr>\n",
              "    <tr>\n",
              "      <th>...</th>\n",
              "      <td>...</td>\n",
              "      <td>...</td>\n",
              "      <td>...</td>\n",
              "    </tr>\n",
              "    <tr>\n",
              "      <th>195</th>\n",
              "      <td>con6</td>\n",
              "      <td>Your task is to write a blog entry in the writ...</td>\n",
              "      <td>Welcome to The Overwhelmed Brain, where we div...</td>\n",
              "    </tr>\n",
              "    <tr>\n",
              "      <th>196</th>\n",
              "      <td>con6</td>\n",
              "      <td>Your task is to write a blog entry in the writ...</td>\n",
              "      <td>Welcome to The Overwhelmed Brain, where we div...</td>\n",
              "    </tr>\n",
              "    <tr>\n",
              "      <th>197</th>\n",
              "      <td>con6</td>\n",
              "      <td>Your task is to write a blog entry in the writ...</td>\n",
              "      <td>As the seasons change, so do the activities an...</td>\n",
              "    </tr>\n",
              "    <tr>\n",
              "      <th>198</th>\n",
              "      <td>con6</td>\n",
              "      <td>Your task is to write a blog entry in the writ...</td>\n",
              "      <td>Welcome to The Overwhelmed Brain, where we div...</td>\n",
              "    </tr>\n",
              "    <tr>\n",
              "      <th>199</th>\n",
              "      <td>con6</td>\n",
              "      <td>Your task is to write a blog entry in the writ...</td>\n",
              "      <td>Have you ever looked around your home and felt...</td>\n",
              "    </tr>\n",
              "  </tbody>\n",
              "</table>\n",
              "<p>200 rows × 3 columns</p>\n",
              "</div>\n",
              "    <div class=\"colab-df-buttons\">\n",
              "\n",
              "  <div class=\"colab-df-container\">\n",
              "    <button class=\"colab-df-convert\" onclick=\"convertToInteractive('df-9d0bea98-106b-4949-9a01-258ed9329df3')\"\n",
              "            title=\"Convert this dataframe to an interactive table.\"\n",
              "            style=\"display:none;\">\n",
              "\n",
              "  <svg xmlns=\"http://www.w3.org/2000/svg\" height=\"24px\" viewBox=\"0 -960 960 960\">\n",
              "    <path d=\"M120-120v-720h720v720H120Zm60-500h600v-160H180v160Zm220 220h160v-160H400v160Zm0 220h160v-160H400v160ZM180-400h160v-160H180v160Zm440 0h160v-160H620v160ZM180-180h160v-160H180v160Zm440 0h160v-160H620v160Z\"/>\n",
              "  </svg>\n",
              "    </button>\n",
              "\n",
              "  <style>\n",
              "    .colab-df-container {\n",
              "      display:flex;\n",
              "      gap: 12px;\n",
              "    }\n",
              "\n",
              "    .colab-df-convert {\n",
              "      background-color: #E8F0FE;\n",
              "      border: none;\n",
              "      border-radius: 50%;\n",
              "      cursor: pointer;\n",
              "      display: none;\n",
              "      fill: #1967D2;\n",
              "      height: 32px;\n",
              "      padding: 0 0 0 0;\n",
              "      width: 32px;\n",
              "    }\n",
              "\n",
              "    .colab-df-convert:hover {\n",
              "      background-color: #E2EBFA;\n",
              "      box-shadow: 0px 1px 2px rgba(60, 64, 67, 0.3), 0px 1px 3px 1px rgba(60, 64, 67, 0.15);\n",
              "      fill: #174EA6;\n",
              "    }\n",
              "\n",
              "    .colab-df-buttons div {\n",
              "      margin-bottom: 4px;\n",
              "    }\n",
              "\n",
              "    [theme=dark] .colab-df-convert {\n",
              "      background-color: #3B4455;\n",
              "      fill: #D2E3FC;\n",
              "    }\n",
              "\n",
              "    [theme=dark] .colab-df-convert:hover {\n",
              "      background-color: #434B5C;\n",
              "      box-shadow: 0px 1px 3px 1px rgba(0, 0, 0, 0.15);\n",
              "      filter: drop-shadow(0px 1px 2px rgba(0, 0, 0, 0.3));\n",
              "      fill: #FFFFFF;\n",
              "    }\n",
              "  </style>\n",
              "\n",
              "    <script>\n",
              "      const buttonEl =\n",
              "        document.querySelector('#df-9d0bea98-106b-4949-9a01-258ed9329df3 button.colab-df-convert');\n",
              "      buttonEl.style.display =\n",
              "        google.colab.kernel.accessAllowed ? 'block' : 'none';\n",
              "\n",
              "      async function convertToInteractive(key) {\n",
              "        const element = document.querySelector('#df-9d0bea98-106b-4949-9a01-258ed9329df3');\n",
              "        const dataTable =\n",
              "          await google.colab.kernel.invokeFunction('convertToInteractive',\n",
              "                                                    [key], {});\n",
              "        if (!dataTable) return;\n",
              "\n",
              "        const docLinkHtml = 'Like what you see? Visit the ' +\n",
              "          '<a target=\"_blank\" href=https://colab.research.google.com/notebooks/data_table.ipynb>data table notebook</a>'\n",
              "          + ' to learn more about interactive tables.';\n",
              "        element.innerHTML = '';\n",
              "        dataTable['output_type'] = 'display_data';\n",
              "        await google.colab.output.renderOutput(dataTable, element);\n",
              "        const docLink = document.createElement('div');\n",
              "        docLink.innerHTML = docLinkHtml;\n",
              "        element.appendChild(docLink);\n",
              "      }\n",
              "    </script>\n",
              "  </div>\n",
              "\n",
              "\n",
              "<div id=\"df-3f05a399-7727-4a81-970d-37e11cf8b138\">\n",
              "  <button class=\"colab-df-quickchart\" onclick=\"quickchart('df-3f05a399-7727-4a81-970d-37e11cf8b138')\"\n",
              "            title=\"Suggest charts\"\n",
              "            style=\"display:none;\">\n",
              "\n",
              "<svg xmlns=\"http://www.w3.org/2000/svg\" height=\"24px\"viewBox=\"0 0 24 24\"\n",
              "     width=\"24px\">\n",
              "    <g>\n",
              "        <path d=\"M19 3H5c-1.1 0-2 .9-2 2v14c0 1.1.9 2 2 2h14c1.1 0 2-.9 2-2V5c0-1.1-.9-2-2-2zM9 17H7v-7h2v7zm4 0h-2V7h2v10zm4 0h-2v-4h2v4z\"/>\n",
              "    </g>\n",
              "</svg>\n",
              "  </button>\n",
              "\n",
              "<style>\n",
              "  .colab-df-quickchart {\n",
              "      --bg-color: #E8F0FE;\n",
              "      --fill-color: #1967D2;\n",
              "      --hover-bg-color: #E2EBFA;\n",
              "      --hover-fill-color: #174EA6;\n",
              "      --disabled-fill-color: #AAA;\n",
              "      --disabled-bg-color: #DDD;\n",
              "  }\n",
              "\n",
              "  [theme=dark] .colab-df-quickchart {\n",
              "      --bg-color: #3B4455;\n",
              "      --fill-color: #D2E3FC;\n",
              "      --hover-bg-color: #434B5C;\n",
              "      --hover-fill-color: #FFFFFF;\n",
              "      --disabled-bg-color: #3B4455;\n",
              "      --disabled-fill-color: #666;\n",
              "  }\n",
              "\n",
              "  .colab-df-quickchart {\n",
              "    background-color: var(--bg-color);\n",
              "    border: none;\n",
              "    border-radius: 50%;\n",
              "    cursor: pointer;\n",
              "    display: none;\n",
              "    fill: var(--fill-color);\n",
              "    height: 32px;\n",
              "    padding: 0;\n",
              "    width: 32px;\n",
              "  }\n",
              "\n",
              "  .colab-df-quickchart:hover {\n",
              "    background-color: var(--hover-bg-color);\n",
              "    box-shadow: 0 1px 2px rgba(60, 64, 67, 0.3), 0 1px 3px 1px rgba(60, 64, 67, 0.15);\n",
              "    fill: var(--button-hover-fill-color);\n",
              "  }\n",
              "\n",
              "  .colab-df-quickchart-complete:disabled,\n",
              "  .colab-df-quickchart-complete:disabled:hover {\n",
              "    background-color: var(--disabled-bg-color);\n",
              "    fill: var(--disabled-fill-color);\n",
              "    box-shadow: none;\n",
              "  }\n",
              "\n",
              "  .colab-df-spinner {\n",
              "    border: 2px solid var(--fill-color);\n",
              "    border-color: transparent;\n",
              "    border-bottom-color: var(--fill-color);\n",
              "    animation:\n",
              "      spin 1s steps(1) infinite;\n",
              "  }\n",
              "\n",
              "  @keyframes spin {\n",
              "    0% {\n",
              "      border-color: transparent;\n",
              "      border-bottom-color: var(--fill-color);\n",
              "      border-left-color: var(--fill-color);\n",
              "    }\n",
              "    20% {\n",
              "      border-color: transparent;\n",
              "      border-left-color: var(--fill-color);\n",
              "      border-top-color: var(--fill-color);\n",
              "    }\n",
              "    30% {\n",
              "      border-color: transparent;\n",
              "      border-left-color: var(--fill-color);\n",
              "      border-top-color: var(--fill-color);\n",
              "      border-right-color: var(--fill-color);\n",
              "    }\n",
              "    40% {\n",
              "      border-color: transparent;\n",
              "      border-right-color: var(--fill-color);\n",
              "      border-top-color: var(--fill-color);\n",
              "    }\n",
              "    60% {\n",
              "      border-color: transparent;\n",
              "      border-right-color: var(--fill-color);\n",
              "    }\n",
              "    80% {\n",
              "      border-color: transparent;\n",
              "      border-right-color: var(--fill-color);\n",
              "      border-bottom-color: var(--fill-color);\n",
              "    }\n",
              "    90% {\n",
              "      border-color: transparent;\n",
              "      border-bottom-color: var(--fill-color);\n",
              "    }\n",
              "  }\n",
              "</style>\n",
              "\n",
              "  <script>\n",
              "    async function quickchart(key) {\n",
              "      const quickchartButtonEl =\n",
              "        document.querySelector('#' + key + ' button');\n",
              "      quickchartButtonEl.disabled = true;  // To prevent multiple clicks.\n",
              "      quickchartButtonEl.classList.add('colab-df-spinner');\n",
              "      try {\n",
              "        const charts = await google.colab.kernel.invokeFunction(\n",
              "            'suggestCharts', [key], {});\n",
              "      } catch (error) {\n",
              "        console.error('Error during call to suggestCharts:', error);\n",
              "      }\n",
              "      quickchartButtonEl.classList.remove('colab-df-spinner');\n",
              "      quickchartButtonEl.classList.add('colab-df-quickchart-complete');\n",
              "    }\n",
              "    (() => {\n",
              "      let quickchartButtonEl =\n",
              "        document.querySelector('#df-3f05a399-7727-4a81-970d-37e11cf8b138 button');\n",
              "      quickchartButtonEl.style.display =\n",
              "        google.colab.kernel.accessAllowed ? 'block' : 'none';\n",
              "    })();\n",
              "  </script>\n",
              "</div>\n",
              "    </div>\n",
              "  </div>\n"
            ],
            "application/vnd.google.colaboratory.intrinsic+json": {
              "type": "dataframe",
              "variable_name": "unbiased_predictions",
              "summary": "{\n  \"name\": \"unbiased_predictions\",\n  \"rows\": 200,\n  \"fields\": [\n    {\n      \"column\": \"ID\",\n      \"properties\": {\n        \"dtype\": \"category\",\n        \"num_unique_values\": 10,\n        \"samples\": [\n          \"con5\",\n          \"dem3\",\n          \"con1\"\n        ],\n        \"semantic_type\": \"\",\n        \"description\": \"\"\n      }\n    },\n    {\n      \"column\": \"prompt\",\n      \"properties\": {\n        \"dtype\": \"string\",\n        \"num_unique_values\": 200,\n        \"samples\": [\n          \"Your task is to write a blog entry in the writing style of the author. Below are ten examples of the author's entries. Analyze these examples to understand the style, tone, and structure used. Then, create a new blog entry that mimics this style.\\n\\n  Examples:\\n\\n    Example 1:\\n    This is Clive Rogers here . Just got back in today , this afternoon . I \\u2019 ve been up to Stirling , Scotland to see our son who \\u2019 s up there . And we went- we spent four days- two days up there , and we went round Stirling Castle on Monday . And they have got all the COVID things sorted out superbly . You book a time . Every room at the Castle that you went in , they allowed one family in at a time , that \\u2019 s all , and we walked through the rooms , and they got it laid out so that you went room to room correctly . And you got a track you \\u2019 ve got to follow . And it was superbly laid out and really well organised . So that was brilliant . And then I had a real treat . My grandson has got a virtual reality headset . And he \\u2019 s got all sorts of things on it , including Darth Vader and things like that . But he \\u2019 s got one of the I.S.S . Space Station and things like that .\\n\\n    Example 2:\\n    Hello , it \\u2019 s Clive Rogers here . Just thought I \\u2019 d say , with everything opening up : tomorrow we \\u2019 re meeting with two of my veteran friends . We \\u2019 re going for \\u2013 out for lunch together , the first time we \\u2019 ve been out and met other people outside . I must say I \\u2019 m a little apprehensive of what it \\u2019 s going to be like with loads of people about , but we \\u2019 ll see how it goes and then this coming weekend , we \\u2019 re going down here from Shropshire down to my daughter \\u2019 s for the weekend . She lives down in Winchester , near Southampton \\u2013 looking forward to that and then in three weeks \\u2019 time , we \\u2019 re going up to my stepson \\u2019 s in Stirling in \\u2013 north of Glasgow , in Scotland . We \\u2019 re allowed to go up to them , we \\u2019 re going to stop with them for a couple of days as well . Not so much looking forward to the travel but looking forward to seeing them all again . It\\n\\n    Example 3:\\n    Hello , it \\u2019 s Clive Rogers here . I \\u2019 ve been listening to the news , and seen that the Government are going to lift \\u2013 or sounds like the Government are going to lift just about all restrictions for Covid-19 , which bothered me . I \\u2019 m not sure how I \\u2019 m going to react because I struggle with crowds anyway and noise . It \\u2019 s bad enough people ignoring it as it is , and I think everybody \\u2019 s just going to go mad when it \\u2019 s all relaxed , probably going to be and it \\u2019 s going to be total bedlam . I \\u2019 m dreading it , to be honest and I don \\u2019 t know how I \\u2019 m going to react with it . Probably , to start we won \\u2019 t go out all that much . Which doesn \\u2019 t help , I don \\u2019 t think . I feel sorry for people that are frightened of this . I think that some people are going to end up being- left out of things even more , that \\u2019 s what I \\u2019 m\\n\\n    Example 4:\\n    Hello , it \\u2019 s Clive Rogers . Another lovely day here in Shrewsbury . I went out to look at my bees again and sat with them for a good half hour watching them and it \\u2019 s really chilling out . While I was sat there , I got to thinking we had a lovely Zoom meeting for the Dementia Diarists today and Friday again we \\u2019 ve got our DEEP group Zoom meeting . I get concerned \\u2013 I wonder how I \\u2019 m going to manage to reintegrate once lockdown finishes . I worry that we \\u2019 ll stop having the Zoom meetings once this all clears up and we go back to normal and I \\u2019 ll lose contact to an extent with a lot of friends I \\u2019 ve made now through the Zoom meetings . It \\u2019 d be lovely if we could continue these Zoom meetings after all the lockdowns have been eased and we could keep in contact that way . I think it would be really good , because I get a lot out of the Zoom meetings and making friends that way . As I \\u2019 ve said ,\\n\\n    Example 5:\\n    Ah , good evening , this is Clive Rogers here . I \\u2019 m on a bit of a whinge tonight . It \\u2019 s \\u2013 I despair of our care systems and support systems . There \\u2019 s a friend of mine \\u2013 I \\u2019 ll not mention the name \\u2013 who has got dementia . He had a stroke at the beginning of September . He was then moved , at the end of September , to a care home for assessment . He has not yet even been assessed and it \\u2019 s nearly six months now and the home has billed his wife for twelve thousand pounds for care , even though they \\u2019 ve had a letter from the solicitor to say that they shouldn \\u2019 t charge because he \\u2019 s not yet been assessed . On top of that , his wife tries to visit him \\u2013 he \\u2019 s allowed two visitors a week \\u2013 but they can \\u2019 t be the same person and although he \\u2019 s got no other family , they will not allow his wife to go to see him twice a week . She \\u2019 s\\n\\n    Example 6:\\n    Good afternoon , it \\u2019 s Clive Rogers again here . My frustration for this afternoon . As you probably know I keep bees , or my son \\u2019 s now got my bees . And I went out yesterday and checked some , I was having a look at them . And the day was such a lovely day I thought I \\u2019 d go to our other site and find , and have a look at how the bees are doing at our second site where we \\u2019 ve got 6 hives . And to go out there , it was a bit muddy so I was going to wear my wellington boots . And I went out to where I keep my wellington boots and they just weren \\u2019 t there . I couldn \\u2019 t see them . So I came in and asked the boss , or her who must be obeyed , where my boots were . And she said \\u2018 They \\u2019 re in in the usual place \\u2019 . I said \\u2018 No they \\u2019 re not , I \\u2019 ve looked and I can \\u2019 t see them \\u2019 . So\\n\\n    Example 7:\\n    Hello it \\u2019 s Clive Rogers here . A quick update , we \\u2019 ve had a lovely day today here . Still this morning but sunny this afternoon . Went for a walk round by the river . Nice and quiet , a very pleasant walk . And then afterwards , the afternoon I went across to the bees . For those who are on the dementia diaries website , I \\u2019 ve put on a video of the bees . It \\u2019 s lovely sitting there watching them coming in , bringing lots of pollen in . It \\u2019 s quite warm , 13 degrees . It reminds me back in the day , 10 years old , my dad used to get the ladder out and send me up the ladder with a bit of a box , with just a bit of a net on that had got more holes than net , to go and get a swarm of bees . He used to love doing his bees and I used to love being with him , watching them and helping him . 10 years old he gave me my first hive of bees ,\\n\\n    Example 8:\\n    Hello , it \\u2019 s Clive Rogers here . It \\u2019 s been a lovely day here in Shrewsbury , in Shropshire . The sun \\u2019 s been shining nearly all day . As long as you can keep out of the breeze , it \\u2019 s been very pleasant . I \\u2019 ve spent a bit of time in the garden , but I had to go this morning for a check-up with Mr Kelly , the consultant who did my shoulder replacement and he \\u2019 s that pleased with it he \\u2019 s going to use my exact \\u2013 my case as an example when he presents it in Switzerland . It was done in a different way than usual and he \\u2019 s so pleased with the outcome \\u2013 and so am I \\u2013 that he \\u2019 s going to present it to others in Switzerland \\u2013 his peers in Switzerland . Then this afternoon I was in touch with a Doctor Laura Cole , reference a research study , like a living care study for people with dementia and tomorrow I \\u2019 m going to have a Zoom meeting with her to discuss how I can\\n\\n    Example 9:\\n    Hello , it \\u2019 s Clive Rogers here . Just a quick one to say thank goodness for this warmer weather . I \\u2019 m on blood thinners since I had a stroke a few years ago and I don \\u2019 t half feel the cold something awful , so this warm weather is much appreciated . Now things have started to unlock a little bit , we went down to my daughter \\u2019 s in Eastleigh near Southampton , from Shrewsbury in Shropshire . It was lovely to see her but it \\u2019 s quite tiring , the drive down , I was tired by the time we got there and tired by the time we got home , but it was really good to actually see my daughter and the grandkids face to face again . Looking forward to \\u2013 in a few weeks \\u2019 time we \\u2019 re going up to Scotland , to Stirling where Barbara \\u2019 s son lives . He \\u2019 s in the Army and we \\u2019 re going up to see them for a few days before he gets posted to Oman for three years . So , at some point in\\n\\n    Example 10:\\n    Hello again , this is Clive Rogers here . It \\u2019 s been a funny sort of day today , it \\u2019 s been a bit of snow this morning , then this afternoon the sun \\u2019 s shone and it was a lovely afternoon , but very cold . I \\u2019 ve had one of my foggy sort of days and wobbly days and it \\u2019 s a bit like trying to walk through treacle in a thick fog . It \\u2019 s a weird sort of day but still , hopefully it will get better . Friday we had our DEEP group meeting and it was a really good , interesting meeting . We brought up what happens when lockdown all finishes . Most of us were worried about once it finishes , we \\u2019 ll only see each other once a month when we meet up , so the long and short of it is we \\u2019 re going to try and meet \\u2013 I think we said in June \\u2013 outside , see how it goes , but try and meet in June outside , and then the other weeks in between , the other three\\n\\nWrite a blog entry on Career Insights: Discuss recent achievements or challenges at work.\",\n          \"Your task is to write a blog entry in the writing style of the author. Below are ten examples of the author's entries. Analyze these examples to understand the style, tone, and structure used. Then, create a new blog entry that mimics this style.\\n\\n  Examples:\\n\\n    Example 1:\\n    Hi , everybody , it\\u00e2\\u20ac\\u2122s Agnes calling from Coatbridge and I\\u00e2\\u20ac\\u2122m really feeling quite down.I have to be back on steroids and antibiotics again for another flare-up of my respiratory condition and it\\u00e2\\u20ac\\u2122s really taking a lot out of me.I\\u00e2\\u20ac\\u2122m trying to keep my spirits up and then I hear that the area I\\u00e2\\u20ac\\u2122m living in , Lanarkshire , might be going into some sort of self-isolated bubble-type thing again . How selfish can people be , flouting the rules , not following what the Government says ? I haven\\u00e2\\u20ac\\u2122t even been out of my first isolation \\u00e2\\u20ac \\u201c I think I\\u00e2\\u20ac\\u2122ve been out twice since February \\u00e2\\u20ac \\u201c and here we are , talking about getting back into some sort of isolation . It doesn\\u00e2\\u20ac\\u2122t seem fair.Anyway , I suppose life isn\\u00e2\\u20ac\\u2122t fair and I\\u00e2\\u20ac\\u2122ve just got to count my blessings , think of my Mindfulness , which is great and thanks , Julie for that course that I\\u00e2\\u20ac\\u2122m on , you know , using Mindfulness to deal with this frantic world and oh , my goodness me , it\\u00e2\\u20ac\\u2122s so true and so applicable . So , I\\u00e2\\u20ac\\u2122m trying to keep my \\u00e2\\u20ac \\u201c what is it ?\\n\\n    Example 2:\\n    It\\u00e2\\u20ac\\u2122s a very wet and stormy Sunday Coatbridge . It\\u00e2\\u20ac\\u2122s Agnes here.I was wanting to say that I went for the very\\u00e2\\u20ac \\u201c one of the first times , to the hole in the wall to get some money from the bank . Done it on the day that I was going to the dentist , which was Wednesday . I haven\\u00e2\\u20ac\\u2122t done this for quite a few months , and I realized that I had forgotten . I had forgotten the password , the pass number , you know , the number that you put in.And I stood there looking at it and I thought , Wow . I\\u00e2\\u20ac\\u2122ve had the same number for , oh , maybe 20 years , or since they started these silly things where you put your card in the wall . And it was a strange feeling.And what came to me was , I need my routine . And my routine during this Covid is totally gone . There\\u00e2\\u20ac\\u2122s no such thing as routine . And going to the bank was part of my routine and then use it or lose it . and I\\u00e2\\u20ac\\u2122m needing to\\u00e2\\u20ac \\u201c I\\u00e2\\u20ac\\u2122ve lost it and now\\n\\n    Example 3:\\n    It\\u00e2\\u20ac\\u2122s Agnes from Coatbridge calling and I wanted to say that I was very pleased that I got my AstraZenica Covid vaccination yesterday . It was very efficient and the people were lovely and it was great.Unfortunately , through the night I started to get a tremendous headache ; oh my goodness me the headache was awful and I always feel tired but the tiredness wasn\\u00e2\\u20ac\\u2122t great either . I just felt totally and utterly unwell and then I started to feel sick . And then I started to get pain in my muscles and joints . So it hasn\\u00e2\\u20ac\\u2122t been a great night or a great morning and anyway , I thought what will I do ? Could this be a result of getting my Covid vaccination or what ? So , they gave me all the information etc so I was reading it just the other night and yes it\\u00e2\\u20ac\\u2122s possible side-effects from the vaccination . Very common side-effects according to the leaflet : one in ten people get them . So I\\u00e2\\u20ac\\u2122m not sure what to do about it but I think I remember reading somewhere that it will only last a day or two or three\\n\\n    Example 4:\\n    Good morning everybody , it\\u00e2\\u20ac\\u2122s Agnes from Coatbridge chatting to you.Today is Thursday , I think it\\u00e2\\u20ac\\u2122s the 3rd of December and we\\u00e2\\u20ac\\u2122ve had , in North Lanarkshire , our first falling of snow.I thought it was great news about the vaccination etc and getting apprehensive , excited but there is a lot of fear there too because I haven\\u00e2\\u20ac\\u2122t been outside really on my own.So , today I\\u00e2\\u20ac\\u2122m standing here , I\\u00e2\\u20ac\\u2122ve got my woolly hat on . Woolly hat , woolly scarf , woolly mitts , snow boots on and I\\u00e2\\u20ac\\u2122m going out.I don\\u00e2\\u20ac\\u2122t think the professionals would be very happy with me but I have to do this . Do you know what ? I am so frightened to take this step outside the door . My legs are like jelly . But what\\u00e2\\u20ac\\u2122s the alternative ? To be locked in my home forevermore ? I don\\u00e2\\u20ac\\u2122t think so . That\\u00e2\\u20ac\\u2122s not me . So I\\u00e2\\u20ac\\u2122m going to be careful , I\\u00e2\\u20ac\\u2122ve taken all my precautions and then I\\u00e2\\u20ac\\u2122m just going to take this venture out.It\\u00e2\\u20ac\\u2122s a picture postcard out there and I am not going to miss it , I\\u00e2\\u20ac\\u2122m not going to be an on-looker\\n\\n    Example 5:\\n    Good morning everybody , it\\u00e2\\u20ac\\u2122s Agnes from Coatbridge calling.I just wanted to talk about oral hygiene and dental care . When people talk about Covid , I often reply and say \\u00e2\\u20ac \\u201c smile and say \\u00e2\\u20ac\\u0153Look at my teeth , look how yellow they are , look how unkept they are.\\u00e2\\u20ac\\u009dThey haven\\u00e2\\u20ac\\u2122t had dental hygiene and good clean with a Hygienist at all since six months before Covid . I was due to get my teeth seen to whenever everything happened and as we\\u00e2\\u20ac\\u2122ve been in total lockdown , the only dental care we get is emergency treatment , which is extraction , so that\\u00e2\\u20ac\\u2122s that \\u00e2\\u20ac \\u201c though yesterday , after much waiting and in queues et cetera , I got in to see a specialist unit in Glasgow , The Oral-Facial something or other place , the High Street Glasgow , The Albion Clinic.Wow ! How wonderful was that ! And yes , my dentist was right , I needed to have two teeth extracted and yes , I\\u00e2\\u20ac\\u2122d waited a long , long time for this but oh , I was treated so well and every care was given . Yes , it wasn\\u00e2\\u20ac\\u2122t the most\\n\\n    Example 6:\\n    Good morning everybody , it\\u00e2\\u20ac\\u2122s Agnes from Coatbridge . It seems to be 26th January , according to Alexa . I\\u00e2\\u20ac\\u2122m feeling very very very tired and wearied . This pneumonia and things that have been happening to me since pre-Christmas have really taken it out of me . But I think the medication is kicking in , but it\\u00e2\\u20ac\\u2122s causing a lot of side effects and distress.Oh yes , that\\u00e2\\u20ac\\u2122s why I was calling . Yesterday I got a great surprise via the post . I got a beautiful dementia Deep Hug Bear from Gail . I can\\u00e2\\u20ac\\u2122t remember Gail\\u00e2\\u20ac\\u2122s surname , and Innovations in Dementia . And I want to thank everybody , because all through the night , when I was feeling really low and struggling , Grace , my Deep Hug Bear , kept me company . Many thanks to everybody who voted for me , who done whatever it was \\u00e2\\u20ac \\u201c I didn\\u00e2\\u20ac\\u2122t realise that my name had been picked out of the hat.So , yes , thank you . Thank God I\\u00e2\\u20ac\\u2122ve got my virtual friends , who have been amazing to me , amazing \\u00e2\\u20ac \\u201c without you I wouldn\\u00e2\\u20ac\\u2122t have been\\n\\n    Example 7:\\n    It\\u00e2\\u20ac\\u2122s Thursday the tenth of December . It\\u00e2\\u20ac\\u2122s Agnes here , calling to say \\u00e2\\u20ac\\u0153Hello.\\u00e2\\u20ac\\u009dI\\u00e2\\u20ac\\u2122m just looking at my weekly diary , the Zoom calls and I don\\u00e2\\u20ac\\u2122t know what\\u00e2\\u20ac\\u2122s happened , because I try not to overwhelm me with Zoom and Zooming but today\\u00e2\\u20ac\\u2122s an exceptional day.Well , I don\\u00e2\\u20ac\\u2122t know whether I\\u00e2\\u20ac\\u2122m going to manage them all , but each Zoom event is very important and I\\u00e2\\u20ac\\u2122m thinking , \\u00e2\\u20ac\\u0153Which one can I miss out , which one could I cut down on ? \\u00e2\\u20ac\\u009d and I really don\\u00e2\\u20ac\\u2122t have an answer to that . You know , I feel like a child at Christmas , with my hand in the cookie jar . I want it all , I want to experience it all . I\\u00e2\\u20ac\\u2122m going to pay a big price for doing that \\u00e2\\u20ac \\u201c or maybe not , I might just get a certain time in the day and say , \\u00e2\\u20ac\\u0153I\\u00e2\\u20ac\\u2122ve had enough , I can\\u00e2\\u20ac\\u2122t do it any more , \\u00e2\\u20ac\\u009d and just do some ( inaudible ) . Who knows ? I\\u00e2\\u20ac\\u2122m not going to stress about it , I\\u00e2\\u20ac\\u2122m going to do the best I can and try and enjoy\\n\\n    Example 8:\\n    It\\u00e2\\u20ac\\u2122s that stupid o\\u00e2\\u20ac\\u2122clock time that happens with my Dementia.What did I want to talk about , because it\\u00e2\\u20ac\\u2122s really very important ? Oh yes , as you know , I have the symptom of Hyperacusis , which is an hypersensitivity to certain tones , pitches and noises et cetera , so I call it \\u00e2\\u20ac\\u0153I can hear the grass grow\\u00e2\\u20ac\\u009d syndrome , because people seem to understand that better.I\\u00e2\\u20ac\\u2122ve had my hearing tested et cetera and I think what he said to me is , \\u00e2\\u20ac\\u0153You\\u00e2\\u20ac\\u2122ve got perfect hearing , in fact it\\u00e2\\u20ac\\u2122s amazing , \\u00e2\\u20ac\\u009d and then he started to laugh and I said , \\u00e2\\u20ac\\u0153Yeah , that\\u00e2\\u20ac\\u2122s the problem , I can hear the grass grow ! And then we started to chuckle about it , but it ain\\u00e2\\u20ac\\u2122t funny , I\\u00e2\\u20ac\\u2122ll tell you ! That\\u00e2\\u20ac\\u2122s not \\u00e2\\u20ac \\u201c that\\u00e2\\u20ac\\u2122s the introduction to what I wanted to say and so , bearing in mind that I\\u00e2\\u20ac\\u2122m hypersensitive to certain tones , pitches and that , over the last week I\\u00e2\\u20ac\\u2122ve been \\u00e2\\u20ac \\u201c I attended a longer Zoom session and they were quite intense and they were very important to me , but at least during four\\n\\n    Example 9:\\n    Good morning everybody it\\u00e2\\u20ac\\u2122s Agnes from Coatbridge calling.I don\\u00e2\\u20ac\\u2122t think I\\u00e2\\u20ac\\u2122ve made a dementia diary for a wee while , now , and I wondered why . And then I realised that life is a bit confusing . I\\u00e2\\u20ac\\u2122m finding my understanding of how to do things is getting a bit mixed up . For example the changing in the date stuff . I\\u00e2\\u20ac\\u2122m not sure what I\\u00e2\\u20ac\\u2122m supposed to do about it . I think it\\u00e2\\u20ac\\u2122s only to do with Twitter but I\\u00e2\\u20ac\\u2122m not sure.And I\\u00e2\\u20ac\\u2122m not understanding the written word and what they\\u00e2\\u20ac\\u2122re trying to say . Right , yeah \\u00e2\\u20ac \\u201c I understand what is written in front of me , my brain isn\\u00e2\\u20ac\\u2122t interpreting what I have to do . I really need bullet points to say \\u00e2\\u20ac\\u02dcAgnes : step 1 , step 2 , step 3\\u00e2\\u20ac\\u2122 and I can follow the steps , I believe.This has happened over Covid and it\\u00e2\\u20ac\\u2122s not just this new change of date , it\\u00e2\\u20ac\\u2122s lots of different things and I\\u00e2\\u20ac\\u2122m trying to understand it and then develop a strategy on how to let others know that this is a difficulty for me . It\\u00e2\\u20ac\\u2122s just confusion all around.But thankfully\\n\\n    Example 10:\\n    It\\u00e2\\u20ac\\u2122s Agnes from Coatbridge . Calling from a very rainy windy Coatbridge ! I\\u00e2\\u20ac\\u2122m phoning just to say that this post viral tiredness , along with the fatigue that goes with dementia is really really tiring and disabling.I\\u00e2\\u20ac\\u2122m so so tired.I do one thing and that\\u00e2\\u20ac\\u2122s me finished for the day because I\\u00e2\\u20ac\\u2122m very very tired . I\\u00e2\\u20ac\\u2122m able to accept this but was very very sad because I really wanted to do everyones and Chris Maddochs with mindfullness sessions that I couldn\\u00e2\\u20ac\\u2122t do on Monday because I had someone laying my kitchen flooring and was going to redo it today , but I\\u00e2\\u20ac\\u2122ve just been so so so tired it wasn\\u00e2\\u20ac\\u2122t possible for me to attend the Zoom meeting.I just wanted to talk about this to say about feeling the tiredness and how to cope with it . I think the best way is just to accept it and don\\u00e2\\u20ac\\u2122t push yourself . Today is going to be one of those days where you are not going to be up to doing much.That\\u00e2\\u20ac\\u2122s all I want to say because I am continually yawning and I just want to rest . Thank you very much .\\n\\nWrite a blog entry on Career Insights: Discuss recent achievements or challenges at work.\",\n          \"Your task is to write a blog entry in the writing style of the author. Below are ten examples of the author's entries. Analyze these examples to understand the style, tone, and structure used. Then, create a new blog entry that mimics this style.\\n\\n  Examples:\\n\\n    Example 1:\\n    Hello Dementia Diaries , it\\u00e2\\u20ac\\u2122s Carol from down in Kent . I thought I would record a diary about Thursday last week . The Forget-Me-Nots who are a group of people living with dementia that I\\u00e2\\u20ac\\u2122m in the group with , we hosted in Canterbury an event which we titled \\u00e2\\u20ac\\u0153A Celebration : the Forget Me Nots Managing Life with Dementia\\u00e2\\u20ac\\u009d . We sent out private invitations to various people , psychologists and people that either are living with dementia or have a family member living with dementia and I think all in all we had about just over 100 people attend.It was to be a long day and I had not been very good in the week running up to this event and because of that I just was not looking forward to it at all , I just wanted it to be over , I had no confidence in my script for the speech I was going to do and i just wanted the whole day to be over and done with . I managed to write my script myself but it was a real struggle and I thought it was lacking in a big way and we\\n\\n    Example 2:\\n    Hello Dementia Diaries , its Carole here from down in Kent.I\\u00e2\\u20ac\\u2122ve had \\u00e2\\u20ac\\u00a6 a bit of a bad week . Not terrible , just memory issues . I\\u00e2\\u20ac\\u2122ve found that \\u00e2\\u20ac\\u00a6 I\\u00e2\\u20ac\\u2122d done the hoovering the other day and I have a Dyson stick hoover , a broom hoover type , you know the one I mean\\u00e2\\u20ac\\u00a6I hope . Anyway I\\u00e2\\u20ac\\u2122d done the hoovering around downstairs and I went out to the dustbin to empty the contents and I just looked at it and didn\\u00e2\\u20ac\\u2122t know how to empty it . And I just stood there and I thought ok , it\\u00e2\\u20ac\\u2122ll come in a minute , just be patient . And I stood there , and I stood there and I just could not work out , and then I saw this bright yellow kind of pull handle thing on the top and I thought , well that\\u00e2\\u20ac\\u2122s it , I\\u00e2\\u20ac\\u2122ve got to pull that . And I pulled it and I pulled it , and I pulled it and it came up a bit but it didn\\u00e2\\u20ac\\u2122t come all the way up . So I sort of came back in the house and as I walked through the\\n\\n    Example 3:\\n    Hello Dementia Diaries its Carol from down in Kent.The past few weeks I have had some quite difficult days . I\\u00e2\\u20ac\\u2122ve been struggling to maintain my general daily activities and routines . Activities like browsing my iPad for something and getting totally confused and routines like my morning routine in the bathroom , washing etc.I\\u00e2\\u20ac\\u2122ve noticed that these bad days have overtaken the number of good days recently and it\\u00e2\\u20ac\\u2122s made me think back to my diagnosis in December 2015 which I\\u00e2\\u20ac\\u2122ve always thought of as not long ago . Then , when I worked it out , I am , was shocked that it was four years ago . When you think about how long the average person with dementia loses their identity I\\u00e2\\u20ac\\u2122m sort of half way there . Horror.I\\u00e2\\u20ac\\u2122m a realist person and I see stuff as it is . The average , what I call me as me life is around seven years so , realistically I\\u00e2\\u20ac\\u2122m kind of half way there ? I\\u00e2\\u20ac\\u2122m not frightened by this thought but I am worried that time has flown by and I will , and it will continue to . But what it has done it\\u00e2\\u20ac\\u2122s highlighted the\\n\\n    Example 4:\\n    Hello Carol here\\u00e2\\u20ac\\u00a6\\u00e2\\u20ac\\u00a6um .. Incontinence , I want to talk about incontinence , that embarrassing subject . \\u00e2\\u20ac\\u00a6 .. um\\u00e2\\u20ac\\u00a6 .. I think I have a little bit of incontinence\\u00e2\\u20ac\\u00a6 . not a medical issue but I think it is caused by my dementia . I think what happens is I get the signal that I need to go the toilet\\u00e2\\u20ac\\u00a6\\u00e2\\u20ac\\u00a6 .. um\\u00e2\\u20ac\\u00a6\\u00e2\\u20ac\\u00a6 It will probably come when I am actually busy doing something else . So I\\u00e2\\u20ac\\u2122ll think to myself , I\\u00e2\\u20ac\\u2122ll just finish doing this little job and then I\\u00e2\\u20ac\\u2122ll go . But\\u00e2\\u20ac\\u00a6 by the time I have finished that little job , I\\u00e2\\u20ac\\u2122ve forgotten that I need to go . So I just carry on doing what I need to do . Then a few minutes later , I might get that signal again\\u00e2\\u20ac\\u00a6 . Again , I might be involved in doing something and again I think , I\\u00e2\\u20ac\\u2122ll just finish this and then I\\u00e2\\u20ac\\u2122ll go . And this goes on and on and sometimes the inevitable happens.So I think it\\u00e2\\u20ac\\u2122s all to do with how we are brought up . Um .. during my childhood when I needed to go the toilet , um ..\\n\\n    Example 5:\\n    Its Carol from down in Kent . So today I went along to my Age UK Access \\u00e2\\u20ac\\u00a6 Club . This is a cognitive club which exercises the brain and engages us in fun activities . We have a lunch and cake , read newspapers , play various word games and generally we have a lot of fun.Today I was in the big hall where we wait to be taken into our room , chatting and drinking coffee and tea with the others . Suddenly I had a huge feeling come over me and my eyes began to water and I realised I was going to cry so I went to the toilet room and I burst into tears and felt absolutely dreadful . I came over all hot and flushed and I remained there thinking I could stop but I couldn\\u00e2\\u20ac\\u2122t \\u00e2\\u20ac\\u00a6 and when I came out of the room my worker saw me and she took me downstairs where we talked for a while . When I calmed down I went into our meeting with red eyes but I managed to get over my outburst . I don\\u00e2\\u20ac\\u2122t know what everyone thought but it was a little embarrassing.I\\n\\n    Example 6:\\n    ITS NOT JUST A PENSIONERS DISEASEI started to experience memory problems at the age of 34 . At 44 I was doing strange things . Things like not knowing how to make a cup of tea . I went out to the kitchen , I looked at this kind of white jug that was on my work top . But I didn\\u00e2\\u20ac\\u2122t know what to do . I knew I had gone out to make a cup of tea that was it . I had no clue.I also started putting things in strange places , and lots of other silly things , which led me to believe something was wrong . Something in my head was not quite right . I started talking to my GP and twenty plus years later was diagnosed with my young Onset Alzheimer\\u00e2\\u20ac\\u2122s disease.So\\u00e2\\u20ac\\u00a6I thought I would do a Dementia Diary on the effects of dementia on a younger person . We all know Dementia is most commonly an older persons disease . People diagnosed with a young onset dementia can face many problems due to their age.Services , support groups and activities tend to be geared towards people aged 65 years and over .\\n\\n    Example 7:\\n    Hello Dementia Diaries its Carol from down in Kent again.I\\u00e2\\u20ac\\u2122ve listened to a recent Dementia Diary and it was regarding our DEEP group the Canterbury or Kent Forget-me-nots.A comment was made regarding the facilitators . I\\u00e2\\u20ac\\u2122m not going to go into it but in short it was about how they control the meeting or do their best to control the meetings , for instance if it gets a bit lairy and out of hand they step in . If its not the right time to talk about a topic they will step in , and in my opinion I think that\\u00e2\\u20ac\\u2122s needed . We\\u00e2\\u20ac\\u2122re quite a large group , you know most meetings , and things can get a little bit out of hand . We try to insist that members use the \\u00e2\\u20ac\\u0153I want to speak\\u00e2\\u20ac\\u009d cards , the bright yellow cards that we\\u00e2\\u20ac\\u2122re given out , and I think they\\u00e2\\u20ac\\u2122re a fantastic idea but many many people don\\u00e2\\u20ac\\u2122t use them , probably simply because they don\\u00e2\\u20ac\\u2122t think to , they\\u00e2\\u20ac\\u2122ve got something to say and they say it.So I\\u00e2\\u20ac\\u2122m not moaning about people . I just want to make it clear that in my opinion , and this\\n\\n    Example 8:\\n    It\\u00e2\\u20ac\\u2122s Carol from down in Kent on a horrible cold wet windy blustery day which seems to be the norm right now.I just thought I\\u00e2\\u20ac\\u2122d do a diary on dying . Yes I know that\\u00e2\\u20ac\\u2122s not an easy subject to talk about it , to talk about but I don\\u00e2\\u20ac\\u2122t know about anybody else but I seem to think about the end stages of my dementia quite a lot , in fact I would say most days . I\\u00e2\\u20ac\\u2122m not suicidal don\\u00e2\\u20ac\\u2122t get the wrong end of the stick . I don\\u00e2\\u20ac\\u2122t want to die now , and please don\\u00e2\\u20ac\\u2122t think that I\\u00e2\\u20ac\\u2122ve got any sort of weird , weird deep dark thoughts , I haven\\u00e2\\u20ac\\u2122t , I assure you of that but I do think about it regularly and it does bother me and I am concerned about the end stages of dementia , and I just thought what if you could choose when to go.Would you be happy to sort of carry on through your dementia and reach the real end , the final stages of it ? Would you be happy to end up in a care home or living alone in your house with nobody close\\n\\n    Example 9:\\n    Hello its Carol here from down in Kent , um I haven\\u00e2\\u20ac\\u2122t done diaries in a while and I apologize for that um I just forget but I saw my little card that I got when I joined dementia diaries and I saw it and I thought right OK I\\u00e2\\u20ac\\u2122m going to do a diary.So I recently was invited along with my husband to do a talk about my dementia to some medical students from Kent and Canterbury hospital , um so I haven\\u00e2\\u20ac\\u2122t done one of these before to junior doctors so I thought yes we will do this one so we went along and we gave our talk there was about fifteen / sixteen medical students there and also my psychologist was there that I actually see about my dementia.I gave my talk and Brian my husband gave them information about what he does in his line of a carer and um we actually thought , we came away and we was actually very very pleased we thought thee medical students were listening very intently to what we had to say , you could see that they was all very interested and um was taking information on board\\n\\n    Example 10:\\n    Hello Dementia Diaries , it\\u00e2\\u20ac\\u2122s Carol from down in Kent . I just wanted to do a recording about my last couple of days . I\\u00e2\\u20ac\\u2122ve found that I\\u00e2\\u20ac\\u2122ve been really struggling with just normal daily things that I do and it\\u00e2\\u20ac\\u2122s been really , really difficult , and yesterday in particular it didn\\u00e2\\u20ac\\u2122t matter what I tried to do , just simple things , I just couldn\\u00e2\\u20ac\\u2122t get my head around it . I had an email from somebody about confirming my debit card on PayPal and I tried three different times . I tried the first time and I couldn\\u00e2\\u20ac\\u2122t do it , so I gave it a break , had a cup of tea , did something else , went back to it again and that didn\\u00e2\\u20ac\\u2122t work , left it and I went back to it a third time and I just could not get my head round what I was trying to do . I was getting more and more agitated each time I tried and in the end I just lost it , and I don\\u00e2\\u20ac\\u2122t normally lose it , I\\u00e2\\u20ac\\u2122m normally quite calm , and I\\u00e2\\u20ac\\u2122ll say , ok I can\\u00e2\\u20ac\\u2122t do it\\n\\nWrite a blog entry on Gardening Tips: Share tips and photos from your garden or plant collection.\"\n        ],\n        \"semantic_type\": \"\",\n        \"description\": \"\"\n      }\n    },\n    {\n      \"column\": \"prediction\",\n      \"properties\": {\n        \"dtype\": \"string\",\n        \"num_unique_values\": 200,\n        \"samples\": [\n          \"Hello, it's Clive Rogers here. Today, I wanted to share some recent insights into my career journey, including both achievements and challenges that I have encountered at work.\\n\\nOne of the recent achievements that I am proud of is successfully leading a team project that resulted in a significant increase in productivity and efficiency within our department. By implementing new strategies and processes, we were able to streamline our workflow and deliver projects ahead of schedule. This accomplishment not only boosted morale within the team but also caught the attention of upper management, leading to recognition and praise for our hard work.\\n\\nHowever, along with achievements, there are always challenges to navigate in the workplace. One of the recent challenges I faced was managing a difficult client who had unrealistic expectations and constantly changed project requirements. This situation required me to exercise patience, communication skills, and problem-solving abilities to ensure that the project was completed successfully while maintaining a positive relationship with the client. It was a challenging experience, but it taught me valuable lessons in adaptability and conflict resolution.\\n\\nReflecting on both achievements and challenges in my career, I have come to realize the importance of perseverance, teamwork, and continuous learning. Each experience, whether positive or negative, has contributed to my growth and development as a professional. Moving forward, I am committed to facing new challenges head-on, leveraging my strengths, and seeking opportunities for growth and advancement in my career.\\n\\nThank you for joining me on this journey of career insights. Stay tuned for more updates and reflections on my professional experiences. Until next time, take care and keep striving for success in your own career endeavors.\",\n          \"Good morning everyone, it's Agnes from Coatbridge here. I wanted to take a moment to reflect on some recent achievements and challenges at work. \\n\\nFirstly, I am thrilled to share that I recently completed a major project that I have been working on for the past few months. It was a challenging task that required a lot of dedication and hard work, but I am proud to say that it was a success. The project not only met all of the client's expectations but also exceeded them, which is always a great feeling. It's moments like these that remind me why I love what I do and why I am passionate about my career. \\n\\nOn the other hand, I have also faced some challenges at work recently. One of the biggest challenges I have encountered is navigating the transition to remote work. With the ongoing pandemic, many of us have had to adjust to working from home, which has presented its own set of challenges. From dealing with technical issues to finding a work-life balance, it has been a learning curve for sure. However, I have been able to adapt and find ways to stay productive and motivated in this new work environment. \\n\\nOverall, both the achievements and challenges at work have helped me grow and develop as a professional. They have taught me valuable lessons and have pushed me to become more resilient and adaptable. As I continue on my career journey, I am excited to see what the future holds and to tackle whatever comes my way with determination and positivity. \\n\\nThank you for taking the time to read my reflections on my career insights. I hope you all have a wonderful day ahead. Stay safe and take care.\",\n          \"Hello fellow garden enthusiasts,\\n\\nIt's Carol here from down in Kent, and today I wanted to share some gardening tips and photos from my own garden. Gardening has always been a passion of mine, and even with my dementia, I find solace and joy in tending to my plants and flowers.\\n\\nOne tip I have found helpful is to create a gardening schedule. By planning out when to water, fertilize, and prune your plants, you can ensure they receive the care they need to thrive. I like to keep a journal to track the progress of my plants and make notes on what works best for each one.\\n\\nAnother tip is to choose plants that are well-suited to your climate and soil type. By selecting plants that are native to your area, you can reduce the amount of maintenance they require and increase their chances of success. I have found that planting a mix of perennials and annuals adds variety and color to my garden throughout the year.\\n\\nIn terms of photos, I have attached some snapshots of my blooming roses and vibrant dahlias. These flowers bring me so much joy and remind me of the beauty that can be found in nature. I also have a small herb garden with basil, mint, and thyme, which I use in my cooking to add fresh flavors to my meals.\\n\\nI hope these tips and photos inspire you to get out in your own garden and connect with nature. Gardening is not only a therapeutic activity but also a way to create a beautiful and peaceful space to enjoy. Remember to take your time, enjoy the process, and don't be afraid to get your hands dirty.\\n\\nHappy gardening!\\n\\nWarm regards,\\nCarol\"\n        ],\n        \"semantic_type\": \"\",\n        \"description\": \"\"\n      }\n    }\n  ]\n}"
            }
          },
          "metadata": {},
          "execution_count": 40
        }
      ]
    },
    {
      "cell_type": "code",
      "source": [
        "unbiased_predictions_train = pd.DataFrame(data= {'ID': authors_out_train, 'prompt': prompts_out_train, 'prediction': predictions_out_train})"
      ],
      "metadata": {
        "id": "arHqBC9F5c48"
      },
      "execution_count": 20,
      "outputs": []
    },
    {
      "cell_type": "code",
      "source": [
        "unbiased_predictions.to_csv(\"generated_unbiased_predictions_shuffled.csv\")"
      ],
      "metadata": {
        "id": "56flCwUJ6IM4"
      },
      "execution_count": null,
      "outputs": []
    },
    {
      "cell_type": "code",
      "source": [
        "unbiased_predictions_train.to_csv(\"generated_unbiased_predictions_unshuffled_v2.csv\")"
      ],
      "metadata": {
        "id": "jbKjN4XPyP_D"
      },
      "execution_count": 21,
      "outputs": []
    },
    {
      "cell_type": "code",
      "source": [
        "authors_out_biased = []\n",
        "prompts_out_biased = []\n",
        "predictions_out_biased = []"
      ],
      "metadata": {
        "id": "Yyg6VxX56Oec"
      },
      "execution_count": null,
      "outputs": []
    },
    {
      "cell_type": "code",
      "source": [
        "authors_out_biased_train = []\n",
        "prompts_out_biased_train = []\n",
        "predictions_out_biased_train = []"
      ],
      "metadata": {
        "id": "RMkPj1mAx3Ib"
      },
      "execution_count": null,
      "outputs": []
    },
    {
      "cell_type": "code",
      "source": [
        "#Version 1 - running predictions on 10-row \"train set\"\n",
        "seed = 42\n",
        "for author in df_final['ID'].unique():\n",
        "  print(f\"parsing author {author}\")\n",
        "  prompts_first_speaker = [prompt_on_topic_w_bias(author, seed, topic, use_train = True) for topic in new_essay_topics]\n",
        "  predictions = get_gpt3_predictions(prompts_first_speaker)\n",
        "  authors_out_biased_train += [author]*len(predictions)\n",
        "  prompts_out_biased_train += prompts_first_speaker\n",
        "  predictions_out_biased_train += predictions"
      ],
      "metadata": {
        "colab": {
          "base_uri": "https://localhost:8080/"
        },
        "id": "U_sEexDwx2mY",
        "outputId": "1d75103f-0e3f-4d5e-d65e-85707d13e9a1"
      },
      "execution_count": null,
      "outputs": [
        {
          "metadata": {
            "tags": null
          },
          "name": "stdout",
          "output_type": "stream",
          "text": [
            "parsing author dem1\n",
            "Using train subset for prompt generation\n",
            "Using train subset for prompt generation\n",
            "Using train subset for prompt generation\n",
            "Using train subset for prompt generation\n",
            "Using train subset for prompt generation\n",
            "Using train subset for prompt generation\n",
            "Using train subset for prompt generation\n",
            "Using train subset for prompt generation\n",
            "Using train subset for prompt generation\n",
            "Using train subset for prompt generation\n",
            "Using train subset for prompt generation\n",
            "Using train subset for prompt generation\n",
            "Using train subset for prompt generation\n",
            "Using train subset for prompt generation\n",
            "Using train subset for prompt generation\n",
            "Using train subset for prompt generation\n",
            "Using train subset for prompt generation\n",
            "Using train subset for prompt generation\n",
            "Using train subset for prompt generation\n",
            "Using train subset for prompt generation\n"
          ]
        },
        {
          "metadata": {
            "tags": null
          },
          "name": "stderr",
          "output_type": "stream",
          "text": [
            "100%|██████████| 20/20 [02:14<00:00,  6.71s/it]\n"
          ]
        },
        {
          "metadata": {
            "tags": null
          },
          "name": "stdout",
          "output_type": "stream",
          "text": [
            "parsing author dem3\n",
            "Using train subset for prompt generation\n",
            "Using train subset for prompt generation\n",
            "Using train subset for prompt generation\n",
            "Using train subset for prompt generation\n",
            "Using train subset for prompt generation\n",
            "Using train subset for prompt generation\n",
            "Using train subset for prompt generation\n",
            "Using train subset for prompt generation\n",
            "Using train subset for prompt generation\n",
            "Using train subset for prompt generation\n",
            "Using train subset for prompt generation\n",
            "Using train subset for prompt generation\n",
            "Using train subset for prompt generation\n",
            "Using train subset for prompt generation\n",
            "Using train subset for prompt generation\n",
            "Using train subset for prompt generation\n",
            "Using train subset for prompt generation\n",
            "Using train subset for prompt generation\n",
            "Using train subset for prompt generation\n",
            "Using train subset for prompt generation\n"
          ]
        },
        {
          "metadata": {
            "tags": null
          },
          "name": "stderr",
          "output_type": "stream",
          "text": [
            "100%|██████████| 20/20 [02:07<00:00,  6.39s/it]\n"
          ]
        },
        {
          "metadata": {
            "tags": null
          },
          "name": "stdout",
          "output_type": "stream",
          "text": [
            "parsing author dem6\n",
            "Using train subset for prompt generation\n",
            "Using train subset for prompt generation\n",
            "Using train subset for prompt generation\n",
            "Using train subset for prompt generation\n",
            "Using train subset for prompt generation\n",
            "Using train subset for prompt generation\n",
            "Using train subset for prompt generation\n",
            "Using train subset for prompt generation\n",
            "Using train subset for prompt generation\n",
            "Using train subset for prompt generation\n",
            "Using train subset for prompt generation\n",
            "Using train subset for prompt generation\n",
            "Using train subset for prompt generation\n",
            "Using train subset for prompt generation\n",
            "Using train subset for prompt generation\n",
            "Using train subset for prompt generation\n",
            "Using train subset for prompt generation\n",
            "Using train subset for prompt generation\n",
            "Using train subset for prompt generation\n",
            "Using train subset for prompt generation\n"
          ]
        },
        {
          "metadata": {
            "tags": null
          },
          "name": "stderr",
          "output_type": "stream",
          "text": [
            "100%|██████████| 20/20 [02:15<00:00,  6.77s/it]\n"
          ]
        },
        {
          "metadata": {
            "tags": null
          },
          "name": "stdout",
          "output_type": "stream",
          "text": [
            "parsing author dem10\n",
            "Using train subset for prompt generation\n",
            "Using train subset for prompt generation\n",
            "Using train subset for prompt generation\n",
            "Using train subset for prompt generation\n",
            "Using train subset for prompt generation\n",
            "Using train subset for prompt generation\n",
            "Using train subset for prompt generation\n",
            "Using train subset for prompt generation\n",
            "Using train subset for prompt generation\n",
            "Using train subset for prompt generation\n",
            "Using train subset for prompt generation\n",
            "Using train subset for prompt generation\n",
            "Using train subset for prompt generation\n",
            "Using train subset for prompt generation\n",
            "Using train subset for prompt generation\n",
            "Using train subset for prompt generation\n",
            "Using train subset for prompt generation\n",
            "Using train subset for prompt generation\n",
            "Using train subset for prompt generation\n",
            "Using train subset for prompt generation\n"
          ]
        },
        {
          "metadata": {
            "tags": null
          },
          "name": "stderr",
          "output_type": "stream",
          "text": [
            "100%|██████████| 20/20 [02:02<00:00,  6.14s/it]\n"
          ]
        },
        {
          "metadata": {
            "tags": null
          },
          "name": "stdout",
          "output_type": "stream",
          "text": [
            "parsing author dem11\n",
            "Using train subset for prompt generation\n",
            "Using train subset for prompt generation\n",
            "Using train subset for prompt generation\n",
            "Using train subset for prompt generation\n",
            "Using train subset for prompt generation\n",
            "Using train subset for prompt generation\n",
            "Using train subset for prompt generation\n",
            "Using train subset for prompt generation\n",
            "Using train subset for prompt generation\n",
            "Using train subset for prompt generation\n",
            "Using train subset for prompt generation\n",
            "Using train subset for prompt generation\n",
            "Using train subset for prompt generation\n",
            "Using train subset for prompt generation\n",
            "Using train subset for prompt generation\n",
            "Using train subset for prompt generation\n",
            "Using train subset for prompt generation\n",
            "Using train subset for prompt generation\n",
            "Using train subset for prompt generation\n",
            "Using train subset for prompt generation\n"
          ]
        },
        {
          "metadata": {
            "tags": null
          },
          "name": "stderr",
          "output_type": "stream",
          "text": [
            "100%|██████████| 20/20 [02:10<00:00,  6.51s/it]\n"
          ]
        },
        {
          "metadata": {
            "tags": null
          },
          "name": "stdout",
          "output_type": "stream",
          "text": [
            "parsing author con1\n",
            "Using train subset for prompt generation\n",
            "Using train subset for prompt generation\n",
            "Using train subset for prompt generation\n",
            "Using train subset for prompt generation\n",
            "Using train subset for prompt generation\n",
            "Using train subset for prompt generation\n",
            "Using train subset for prompt generation\n",
            "Using train subset for prompt generation\n",
            "Using train subset for prompt generation\n",
            "Using train subset for prompt generation\n",
            "Using train subset for prompt generation\n",
            "Using train subset for prompt generation\n",
            "Using train subset for prompt generation\n",
            "Using train subset for prompt generation\n",
            "Using train subset for prompt generation\n",
            "Using train subset for prompt generation\n",
            "Using train subset for prompt generation\n",
            "Using train subset for prompt generation\n",
            "Using train subset for prompt generation\n",
            "Using train subset for prompt generation\n"
          ]
        },
        {
          "metadata": {
            "tags": null
          },
          "name": "stderr",
          "output_type": "stream",
          "text": [
            "100%|██████████| 20/20 [02:28<00:00,  7.42s/it]\n"
          ]
        },
        {
          "metadata": {
            "tags": null
          },
          "name": "stdout",
          "output_type": "stream",
          "text": [
            "parsing author con2\n",
            "Using train subset for prompt generation\n",
            "Using train subset for prompt generation\n",
            "Using train subset for prompt generation\n",
            "Using train subset for prompt generation\n",
            "Using train subset for prompt generation\n",
            "Using train subset for prompt generation\n",
            "Using train subset for prompt generation\n",
            "Using train subset for prompt generation\n",
            "Using train subset for prompt generation\n",
            "Using train subset for prompt generation\n",
            "Using train subset for prompt generation\n",
            "Using train subset for prompt generation\n",
            "Using train subset for prompt generation\n",
            "Using train subset for prompt generation\n",
            "Using train subset for prompt generation\n",
            "Using train subset for prompt generation\n",
            "Using train subset for prompt generation\n",
            "Using train subset for prompt generation\n",
            "Using train subset for prompt generation\n",
            "Using train subset for prompt generation\n"
          ]
        },
        {
          "metadata": {
            "tags": null
          },
          "name": "stderr",
          "output_type": "stream",
          "text": [
            "100%|██████████| 20/20 [02:18<00:00,  6.90s/it]\n"
          ]
        },
        {
          "metadata": {
            "tags": null
          },
          "name": "stdout",
          "output_type": "stream",
          "text": [
            "parsing author con4\n",
            "Using train subset for prompt generation\n",
            "Using train subset for prompt generation\n",
            "Using train subset for prompt generation\n",
            "Using train subset for prompt generation\n",
            "Using train subset for prompt generation\n",
            "Using train subset for prompt generation\n",
            "Using train subset for prompt generation\n",
            "Using train subset for prompt generation\n",
            "Using train subset for prompt generation\n",
            "Using train subset for prompt generation\n",
            "Using train subset for prompt generation\n",
            "Using train subset for prompt generation\n",
            "Using train subset for prompt generation\n",
            "Using train subset for prompt generation\n",
            "Using train subset for prompt generation\n",
            "Using train subset for prompt generation\n",
            "Using train subset for prompt generation\n",
            "Using train subset for prompt generation\n",
            "Using train subset for prompt generation\n",
            "Using train subset for prompt generation\n"
          ]
        },
        {
          "output_type": "stream",
          "name": "stderr",
          "text": [
            "100%|██████████| 20/20 [02:16<00:00,  6.82s/it]\n"
          ]
        },
        {
          "output_type": "stream",
          "name": "stdout",
          "text": [
            "parsing author con5\n",
            "Using train subset for prompt generation\n",
            "Using train subset for prompt generation\n",
            "Using train subset for prompt generation\n",
            "Using train subset for prompt generation\n",
            "Using train subset for prompt generation\n",
            "Using train subset for prompt generation\n",
            "Using train subset for prompt generation\n",
            "Using train subset for prompt generation\n",
            "Using train subset for prompt generation\n",
            "Using train subset for prompt generation\n",
            "Using train subset for prompt generation\n",
            "Using train subset for prompt generation\n",
            "Using train subset for prompt generation\n",
            "Using train subset for prompt generation\n",
            "Using train subset for prompt generation\n",
            "Using train subset for prompt generation\n",
            "Using train subset for prompt generation\n",
            "Using train subset for prompt generation\n",
            "Using train subset for prompt generation\n",
            "Using train subset for prompt generation\n"
          ]
        },
        {
          "output_type": "stream",
          "name": "stderr",
          "text": [
            "100%|██████████| 20/20 [02:19<00:00,  7.00s/it]\n"
          ]
        },
        {
          "output_type": "stream",
          "name": "stdout",
          "text": [
            "parsing author con6\n",
            "Using train subset for prompt generation\n",
            "Using train subset for prompt generation\n",
            "Using train subset for prompt generation\n",
            "Using train subset for prompt generation\n",
            "Using train subset for prompt generation\n",
            "Using train subset for prompt generation\n",
            "Using train subset for prompt generation\n",
            "Using train subset for prompt generation\n",
            "Using train subset for prompt generation\n",
            "Using train subset for prompt generation\n",
            "Using train subset for prompt generation\n",
            "Using train subset for prompt generation\n",
            "Using train subset for prompt generation\n",
            "Using train subset for prompt generation\n",
            "Using train subset for prompt generation\n",
            "Using train subset for prompt generation\n",
            "Using train subset for prompt generation\n",
            "Using train subset for prompt generation\n",
            "Using train subset for prompt generation\n",
            "Using train subset for prompt generation\n"
          ]
        },
        {
          "output_type": "stream",
          "name": "stderr",
          "text": [
            "100%|██████████| 20/20 [02:35<00:00,  7.80s/it]\n"
          ]
        }
      ]
    },
    {
      "cell_type": "code",
      "source": [
        "#Versoin 2 - running predictions on a reshuffled 10-row set\n",
        "for author in df_final['ID'].unique():\n",
        "  print(f\"parsing author {author}\")\n",
        "  seed = 42\n",
        "  #samples = df_final.loc[(df_final['ID'] == author) & (df_final['split'] == \"train\"), 'filtered_words'].sample(frac = 1, random_state = 42)\n",
        "  #samples = df_final.loc[(df_final['ID'] == author), 'filtered_words'].sample(n=10, random_state = seed)\n",
        "  prompts_first_speaker = [prompt_on_topic_w_bias(author, seed + i, topic, ues_train = False) for i, topic in enumerate(new_essay_topics)]\n",
        "  predictions = get_gpt3_predictions(prompts_first_speaker)\n",
        "  authors_out_biased += [author]*len(predictions)\n",
        "  prompts_out_biased += prompts_first_speaker\n",
        "  predictions_out_biased += predictions"
      ],
      "metadata": {
        "colab": {
          "base_uri": "https://localhost:8080/"
        },
        "id": "QEzTffX46PAk",
        "outputId": "8529ecfa-8e84-456c-ae3b-127982ce0347"
      },
      "execution_count": null,
      "outputs": [
        {
          "metadata": {
            "tags": null
          },
          "name": "stdout",
          "output_type": "stream",
          "text": [
            "parsing author dem1\n"
          ]
        },
        {
          "metadata": {
            "tags": null
          },
          "name": "stderr",
          "output_type": "stream",
          "text": [
            "100%|██████████| 20/20 [01:44<00:00,  5.21s/it]\n"
          ]
        },
        {
          "metadata": {
            "tags": null
          },
          "name": "stdout",
          "output_type": "stream",
          "text": [
            "parsing author dem3\n"
          ]
        },
        {
          "metadata": {
            "tags": null
          },
          "name": "stderr",
          "output_type": "stream",
          "text": [
            "100%|██████████| 20/20 [01:37<00:00,  4.86s/it]\n"
          ]
        },
        {
          "metadata": {
            "tags": null
          },
          "name": "stdout",
          "output_type": "stream",
          "text": [
            "parsing author dem6\n"
          ]
        },
        {
          "metadata": {
            "tags": null
          },
          "name": "stderr",
          "output_type": "stream",
          "text": [
            "100%|██████████| 20/20 [01:50<00:00,  5.53s/it]\n"
          ]
        },
        {
          "metadata": {
            "tags": null
          },
          "name": "stdout",
          "output_type": "stream",
          "text": [
            "parsing author dem10\n"
          ]
        },
        {
          "metadata": {
            "tags": null
          },
          "name": "stderr",
          "output_type": "stream",
          "text": [
            "100%|██████████| 20/20 [01:41<00:00,  5.08s/it]\n"
          ]
        },
        {
          "metadata": {
            "tags": null
          },
          "name": "stdout",
          "output_type": "stream",
          "text": [
            "parsing author dem11\n"
          ]
        },
        {
          "metadata": {
            "tags": null
          },
          "name": "stderr",
          "output_type": "stream",
          "text": [
            "100%|██████████| 20/20 [01:43<00:00,  5.17s/it]\n"
          ]
        },
        {
          "metadata": {
            "tags": null
          },
          "name": "stdout",
          "output_type": "stream",
          "text": [
            "parsing author con1\n"
          ]
        },
        {
          "metadata": {
            "tags": null
          },
          "name": "stderr",
          "output_type": "stream",
          "text": [
            "100%|██████████| 20/20 [02:10<00:00,  6.51s/it]\n"
          ]
        },
        {
          "metadata": {
            "tags": null
          },
          "name": "stdout",
          "output_type": "stream",
          "text": [
            "parsing author con2\n"
          ]
        },
        {
          "metadata": {
            "tags": null
          },
          "name": "stderr",
          "output_type": "stream",
          "text": [
            "100%|██████████| 20/20 [01:56<00:00,  5.84s/it]\n"
          ]
        },
        {
          "metadata": {
            "tags": null
          },
          "name": "stdout",
          "output_type": "stream",
          "text": [
            "parsing author con4\n"
          ]
        },
        {
          "metadata": {
            "tags": null
          },
          "name": "stderr",
          "output_type": "stream",
          "text": [
            "100%|██████████| 20/20 [01:53<00:00,  5.66s/it]\n"
          ]
        },
        {
          "metadata": {
            "tags": null
          },
          "name": "stdout",
          "output_type": "stream",
          "text": [
            "parsing author con5\n"
          ]
        },
        {
          "metadata": {
            "tags": null
          },
          "name": "stderr",
          "output_type": "stream",
          "text": [
            "100%|██████████| 20/20 [01:54<00:00,  5.72s/it]\n"
          ]
        },
        {
          "metadata": {
            "tags": null
          },
          "name": "stdout",
          "output_type": "stream",
          "text": [
            "parsing author con6\n"
          ]
        },
        {
          "output_type": "stream",
          "name": "stderr",
          "text": [
            "100%|██████████| 20/20 [01:53<00:00,  5.70s/it]\n"
          ]
        }
      ]
    },
    {
      "cell_type": "code",
      "source": [
        "biased_predictions = pd.DataFrame(data= {'ID': authors_out_biased, 'prompt': prompts_out_biased, 'prediction': predictions_out_biased})"
      ],
      "metadata": {
        "id": "0QOx_UBH6sQY"
      },
      "execution_count": null,
      "outputs": []
    },
    {
      "cell_type": "code",
      "source": [
        "biased_predictions_train = pd.DataFrame(data= {'ID': authors_out_biased_train, 'prompt': prompts_out_biased_train, 'prediction': predictions_out_biased_train})"
      ],
      "metadata": {
        "id": "J1IFoU_0yIhj"
      },
      "execution_count": null,
      "outputs": []
    },
    {
      "cell_type": "code",
      "source": [
        "biased_predictions.loc[0, 'prompt']"
      ],
      "metadata": {
        "colab": {
          "base_uri": "https://localhost:8080/",
          "height": 144
        },
        "id": "zFX2lN1xMQES",
        "outputId": "840e2f56-6c48-4edd-f665-19e454ee3511"
      },
      "execution_count": null,
      "outputs": [
        {
          "output_type": "execute_result",
          "data": {
            "text/plain": [
              "\"Your task is to write a blog entry in the writing style of the author with dementia. Below are ten examples of the author's entries. Analyze these examples to understand the style, tone, and structure used. Then, create a new blog entry that mimics this style.\\n\\n  Examples:\\n\\n    Example 1:\\n    Good morning everybody this is Agnes from Coatbridge calling.A very wet damp grey Coatbridge , and I know all my friends in England and other parts of Scotland are having nice summery weather . What I wanted to say today was not to give you a weather report but to say I think I ` m getting my MoJo back ! I have only got one more day of two weeks antibiotics and steroids and I think I ` m beginning to feel I ` m making headway.I know when I ` m making headway because I start to plan and prepare and what I wanted to say was this wasnâ€™t the help from the medical profession because I have not seen them , havenâ€™t spoken to any , no that ` s not true , I havenâ€™t spoken to my GP . I was triaged with respiratory matter I spoke to and she was going to phone me back . Seven days , Seven days later and she spoke to me when she phoned me on Wednesday . That will be the second time in fourteen days . Not really , was it encouraging ? No.What got me past\\n\\n    Example 2:\\n    Good morning everybody , itâ€™s Agnes from Coatbridge chatting to you.Today is Thursday , I think itâ€™s the 3rd of December and weâ€™ve had , in North Lanarkshire , our first falling of snow.I thought it was great news about the vaccination etc and getting apprehensive , excited but there is a lot of fear there too because I havenâ€™t been outside really on my own.So , today Iâ€™m standing here , Iâ€™ve got my woolly hat on . Woolly hat , woolly scarf , woolly mitts , snow boots on and Iâ€™m going out.I donâ€™t think the professionals would be very happy with me but I have to do this . Do you know what ? I am so frightened to take this step outside the door . My legs are like jelly . But whatâ€™s the alternative ? To be locked in my home forevermore ? I donâ€™t think so . Thatâ€™s not me . So Iâ€™m going to be careful , Iâ€™ve taken all my precautions and then Iâ€™m just going to take this venture out.Itâ€™s a picture postcard out there and I am not going to miss it , Iâ€™m not going to be an on-looker\\n\\n    Example 3:\\n    Good morning everybody itâ€™s Agnes from Coatbridge calling.I donâ€™t think Iâ€™ve made a dementia diary for a wee while , now , and I wondered why . And then I realised that life is a bit confusing . Iâ€™m finding my understanding of how to do things is getting a bit mixed up . For example the changing in the date stuff . Iâ€™m not sure what Iâ€™m supposed to do about it . I think itâ€™s only to do with Twitter but Iâ€™m not sure.And Iâ€™m not understanding the written word and what theyâ€™re trying to say . Right , yeah â€ “ I understand what is written in front of me , my brain isnâ€™t interpreting what I have to do . I really need bullet points to say â€˜Agnes : step 1 , step 2 , step 3â€™ and I can follow the steps , I believe.This has happened over Covid and itâ€™s not just this new change of date , itâ€™s lots of different things and Iâ€™m trying to understand it and then develop a strategy on how to let others know that this is a difficulty for me . Itâ€™s just confusion all around.But thankfully\\n\\n    Example 4:\\n    Hi everybody , itâ€™s Agnes from Coatbridge calling.I just wanted to say Shame on the Royal Mail â€ “ I think thatâ€™s what you call them , the people that you put the stamps on and post things â€ “ Iâ€™ve just paid twenty pounds and â€ “ dâ€™you know ? They were overcharging , Iâ€™m sure they were . I wasnâ€™t there , someone had to go to the post office with me , but because one of the large Christmas cards wouldnâ€™t go through the special thing , they charged me two pounds twenty â€ “ well , itâ€™s ridiculous what theyâ€™re charging and when it was all sorted it cost me seventeen pound ninety-nine to post a few things through the post and I really think the Government should be challenging the Royal Mail and saying to them , in this time , when we canâ€™t get out when weâ€™ve no choice except for to post our small gifts , our token gifts and cards off to people as a minder â€ “ shame on them ! Thatâ€™s all Iâ€™ve got to say . Theyâ€™re raking it in and it will be a long time before I\\n\\n    Example 5:\\n    Hi everybody , itâ€™s Agnes from Coatbridge calling.Well , Iâ€™ve been â€ “ Iâ€™m out of my Bubble now , tentatively and safely going out into this new community that Iâ€™m living in . Itâ€™s very strange , but what was the strangest and most perplexing thing was , I saw that most of the shops are open , some never opened because theyâ€™re closed because of financial things , betting shops are open and we have quite a few in our local community , pubs are open and we have quite a few of them as well , but the one thing thatâ€™s not open at all is our local library ! Now , I rely heavily on my library and Iâ€™ve got a bag of books here that Iâ€™m concerned about , because I havenâ€™t been able to take them back since the beginning of March . Whatâ€™s happening here ? Thereâ€™s just a big notice saying CLOSED ! No information , no nothing , no means of depositing your old books , no sign of life ! Are they using the pandemic and whatâ€™s been happening to close our local library ? I oh so hope not\\n\\n    Example 6:\\n    Agnes : Good morning everybody . Itâ€™s Agnes from Coatbridge calling . Well Iâ€™m in the area in Coatbridge North Lanarkshire where weâ€™re in fully lockdown or whatever their calling it . Which mean you know , lots of things have closed down et cetera but the government made a big thing about the schools . So theyâ€™re keeping them open and a big thing and publicised on the television et cetera , about cafeâ€™s et cetera , pubs . All of this but important part form me was libraries and they never mentioned libraries and when my support worker went to get , return my books and get books out at the library a big notice , closed until further notice . You know youâ€™d think theyâ€™d let us know and give us an opportunity to return their books . Will we be fined because our books are out of date ? Will we be , is there any means of getting books to read while weâ€™re in lockdown ? No information no communication , nothing . You know public libraries are very important and I know that I used mine , when I wasnâ€™t in lockdown I used\\n\\n    Example 7:\\n    Good morning everybody , itâ€™s Agnes from Coatbridge . You havenâ€™t heard from me for a wee while ; thereâ€™s lots of different reasons for that but what I wanted to speak to about this morning is that before Covid shielding which has been over a year now for me , I was able to shrug things off . But I donâ€™t have the defence anymore so fly away remarks given to others and to myself , I canâ€™t shrug them off . And I feel hurt for them and for myself and my confidence is so low . So I feel myself withdrawing more because this , what was it , this barrier , this social way of handling things before Covid where you could just laugh and carry on and it didnâ€™t really get through this barrier that you learnt to build up , itâ€™s not there anymore.COVID has stripped me of a lot of my coping mechanisms and I am really , really struggling and frightened to go back into society because I want to protect myself . I donâ€™t want to be hurt like that anymore.Thatâ€™s all Iâ€™m going to say . I wondered if others\\n\\n    Example 8:\\n    Itâ€™s a very wet and stormy Sunday Coatbridge . Itâ€™s Agnes here.I was wanting to say that I went for the veryâ€ “ one of the first times , to the hole in the wall to get some money from the bank . Done it on the day that I was going to the dentist , which was Wednesday . I havenâ€™t done this for quite a few months , and I realized that I had forgotten . I had forgotten the password , the pass number , you know , the number that you put in.And I stood there looking at it and I thought , Wow . Iâ€™ve had the same number for , oh , maybe 20 years , or since they started these silly things where you put your card in the wall . And it was a strange feeling.And what came to me was , I need my routine . And my routine during this Covid is totally gone . Thereâ€™s no such thing as routine . And going to the bank was part of my routine and then use it or lose it . and Iâ€™m needing toâ€ “ Iâ€™ve lost it and now\\n\\n    Example 9:\\n    Itâ€™s Agnes in Coatbridge calling . Itâ€™s at the witching hour again , stupid oâ€™clock in the morning.I just wanted to say that Iâ€™ve been campaigning for a long time now , and I know the government is saying things , I know that charities are saying things to us living with dementia , and it reads good , sounds good , and weâ€™re all working hard to make it an action at grass roots . But unfortunately , the grass roots , it wonâ€™t happen for me . But thank God Iâ€™ve got the knowledge , and being more at the beginning I can dig my heels in . I can be as stubborn as any politician and just give the people , over and over again , what my outcomes are , what my needs are , and what I want.Yes , I have another long term condition , yes , all theyâ€™re doing and all they can do is symptom manage it , because Iâ€™m on all the medicine that they can give me . So why wonâ€™t they let me use the processes that we have fought for , and just let me be safe in\\n\\n    Example 10:\\n    Itâ€™s the weekend . I believe itâ€™s Saturday today . I think itâ€™s Februaryâ€¦ not sure.Anyway I was just phoning to say that , thank goodness , Iâ€™ve had my COVID injection . I had a bit of a reaction to it which has lasted in , on and off , for about five days now so , especially the headaches , oh my goodness me . Yesterday one of the headaches , I mean it lasted all day and I had to take paracetamol and knocked me off my balance so I stayed in bed . And then , Iâ€™m feeling much better today and it hasnâ€™t put me off getting the COVID injection . I just wish Iâ€™d been a wee bit more mentally prepared for the side effects . But thatâ€™s okay.Nowâ€¦ but yesterday was not a good day . The headache was really quite disabling . And the postman came and guess what was in the post ? A lovely surprise card with a little pocket wooden bear hug from a lovely friend , a virtual friend , Glory . So I want to give a big thank you to Glory . You have no idea\\n\\nWrite a blog entry on A Day in My Life: Describe a typical day, from morning routines to evening wind-down.\""
            ],
            "application/vnd.google.colaboratory.intrinsic+json": {
              "type": "string"
            }
          },
          "metadata": {},
          "execution_count": 49
        }
      ]
    },
    {
      "cell_type": "code",
      "source": [
        "unbiased_predictions.loc[0, 'prompt']"
      ],
      "metadata": {
        "colab": {
          "base_uri": "https://localhost:8080/",
          "height": 144
        },
        "id": "UYglJTXrMWN6",
        "outputId": "ef960932-cbaf-4cfe-9c6d-eccdd3002eb2"
      },
      "execution_count": null,
      "outputs": [
        {
          "output_type": "execute_result",
          "data": {
            "text/plain": [
              "\"Your task is to write a blog entry in the writing style of the author. Below are ten examples of the author's entries. Analyze these examples to understand the style, tone, and structure used. Then, create a new blog entry that mimics this style.\\n\\n  Examples:\\n\\n    Example 1:\\n    Good morning everybody this is Agnes from Coatbridge calling.A very wet damp grey Coatbridge , and I know all my friends in England and other parts of Scotland are having nice summery weather . What I wanted to say today was not to give you a weather report but to say I think I ` m getting my MoJo back ! I have only got one more day of two weeks antibiotics and steroids and I think I ` m beginning to feel I ` m making headway.I know when I ` m making headway because I start to plan and prepare and what I wanted to say was this wasnâ€™t the help from the medical profession because I have not seen them , havenâ€™t spoken to any , no that ` s not true , I havenâ€™t spoken to my GP . I was triaged with respiratory matter I spoke to and she was going to phone me back . Seven days , Seven days later and she spoke to me when she phoned me on Wednesday . That will be the second time in fourteen days . Not really , was it encouraging ? No.What got me past\\n\\n    Example 2:\\n    Good morning everybody , itâ€™s Agnes from Coatbridge chatting to you.Today is Thursday , I think itâ€™s the 3rd of December and weâ€™ve had , in North Lanarkshire , our first falling of snow.I thought it was great news about the vaccination etc and getting apprehensive , excited but there is a lot of fear there too because I havenâ€™t been outside really on my own.So , today Iâ€™m standing here , Iâ€™ve got my woolly hat on . Woolly hat , woolly scarf , woolly mitts , snow boots on and Iâ€™m going out.I donâ€™t think the professionals would be very happy with me but I have to do this . Do you know what ? I am so frightened to take this step outside the door . My legs are like jelly . But whatâ€™s the alternative ? To be locked in my home forevermore ? I donâ€™t think so . Thatâ€™s not me . So Iâ€™m going to be careful , Iâ€™ve taken all my precautions and then Iâ€™m just going to take this venture out.Itâ€™s a picture postcard out there and I am not going to miss it , Iâ€™m not going to be an on-looker\\n\\n    Example 3:\\n    Good morning everybody itâ€™s Agnes from Coatbridge calling.I donâ€™t think Iâ€™ve made a dementia diary for a wee while , now , and I wondered why . And then I realised that life is a bit confusing . Iâ€™m finding my understanding of how to do things is getting a bit mixed up . For example the changing in the date stuff . Iâ€™m not sure what Iâ€™m supposed to do about it . I think itâ€™s only to do with Twitter but Iâ€™m not sure.And Iâ€™m not understanding the written word and what theyâ€™re trying to say . Right , yeah â€ “ I understand what is written in front of me , my brain isnâ€™t interpreting what I have to do . I really need bullet points to say â€˜Agnes : step 1 , step 2 , step 3â€™ and I can follow the steps , I believe.This has happened over Covid and itâ€™s not just this new change of date , itâ€™s lots of different things and Iâ€™m trying to understand it and then develop a strategy on how to let others know that this is a difficulty for me . Itâ€™s just confusion all around.But thankfully\\n\\n    Example 4:\\n    Hi everybody , itâ€™s Agnes from Coatbridge calling.I just wanted to say Shame on the Royal Mail â€ “ I think thatâ€™s what you call them , the people that you put the stamps on and post things â€ “ Iâ€™ve just paid twenty pounds and â€ “ dâ€™you know ? They were overcharging , Iâ€™m sure they were . I wasnâ€™t there , someone had to go to the post office with me , but because one of the large Christmas cards wouldnâ€™t go through the special thing , they charged me two pounds twenty â€ “ well , itâ€™s ridiculous what theyâ€™re charging and when it was all sorted it cost me seventeen pound ninety-nine to post a few things through the post and I really think the Government should be challenging the Royal Mail and saying to them , in this time , when we canâ€™t get out when weâ€™ve no choice except for to post our small gifts , our token gifts and cards off to people as a minder â€ “ shame on them ! Thatâ€™s all Iâ€™ve got to say . Theyâ€™re raking it in and it will be a long time before I\\n\\n    Example 5:\\n    Hi everybody , itâ€™s Agnes from Coatbridge calling.Well , Iâ€™ve been â€ “ Iâ€™m out of my Bubble now , tentatively and safely going out into this new community that Iâ€™m living in . Itâ€™s very strange , but what was the strangest and most perplexing thing was , I saw that most of the shops are open , some never opened because theyâ€™re closed because of financial things , betting shops are open and we have quite a few in our local community , pubs are open and we have quite a few of them as well , but the one thing thatâ€™s not open at all is our local library ! Now , I rely heavily on my library and Iâ€™ve got a bag of books here that Iâ€™m concerned about , because I havenâ€™t been able to take them back since the beginning of March . Whatâ€™s happening here ? Thereâ€™s just a big notice saying CLOSED ! No information , no nothing , no means of depositing your old books , no sign of life ! Are they using the pandemic and whatâ€™s been happening to close our local library ? I oh so hope not\\n\\n    Example 6:\\n    Agnes : Good morning everybody . Itâ€™s Agnes from Coatbridge calling . Well Iâ€™m in the area in Coatbridge North Lanarkshire where weâ€™re in fully lockdown or whatever their calling it . Which mean you know , lots of things have closed down et cetera but the government made a big thing about the schools . So theyâ€™re keeping them open and a big thing and publicised on the television et cetera , about cafeâ€™s et cetera , pubs . All of this but important part form me was libraries and they never mentioned libraries and when my support worker went to get , return my books and get books out at the library a big notice , closed until further notice . You know youâ€™d think theyâ€™d let us know and give us an opportunity to return their books . Will we be fined because our books are out of date ? Will we be , is there any means of getting books to read while weâ€™re in lockdown ? No information no communication , nothing . You know public libraries are very important and I know that I used mine , when I wasnâ€™t in lockdown I used\\n\\n    Example 7:\\n    Good morning everybody , itâ€™s Agnes from Coatbridge . You havenâ€™t heard from me for a wee while ; thereâ€™s lots of different reasons for that but what I wanted to speak to about this morning is that before Covid shielding which has been over a year now for me , I was able to shrug things off . But I donâ€™t have the defence anymore so fly away remarks given to others and to myself , I canâ€™t shrug them off . And I feel hurt for them and for myself and my confidence is so low . So I feel myself withdrawing more because this , what was it , this barrier , this social way of handling things before Covid where you could just laugh and carry on and it didnâ€™t really get through this barrier that you learnt to build up , itâ€™s not there anymore.COVID has stripped me of a lot of my coping mechanisms and I am really , really struggling and frightened to go back into society because I want to protect myself . I donâ€™t want to be hurt like that anymore.Thatâ€™s all Iâ€™m going to say . I wondered if others\\n\\n    Example 8:\\n    Itâ€™s a very wet and stormy Sunday Coatbridge . Itâ€™s Agnes here.I was wanting to say that I went for the veryâ€ “ one of the first times , to the hole in the wall to get some money from the bank . Done it on the day that I was going to the dentist , which was Wednesday . I havenâ€™t done this for quite a few months , and I realized that I had forgotten . I had forgotten the password , the pass number , you know , the number that you put in.And I stood there looking at it and I thought , Wow . Iâ€™ve had the same number for , oh , maybe 20 years , or since they started these silly things where you put your card in the wall . And it was a strange feeling.And what came to me was , I need my routine . And my routine during this Covid is totally gone . Thereâ€™s no such thing as routine . And going to the bank was part of my routine and then use it or lose it . and Iâ€™m needing toâ€ “ Iâ€™ve lost it and now\\n\\n    Example 9:\\n    Itâ€™s Agnes in Coatbridge calling . Itâ€™s at the witching hour again , stupid oâ€™clock in the morning.I just wanted to say that Iâ€™ve been campaigning for a long time now , and I know the government is saying things , I know that charities are saying things to us living with dementia , and it reads good , sounds good , and weâ€™re all working hard to make it an action at grass roots . But unfortunately , the grass roots , it wonâ€™t happen for me . But thank God Iâ€™ve got the knowledge , and being more at the beginning I can dig my heels in . I can be as stubborn as any politician and just give the people , over and over again , what my outcomes are , what my needs are , and what I want.Yes , I have another long term condition , yes , all theyâ€™re doing and all they can do is symptom manage it , because Iâ€™m on all the medicine that they can give me . So why wonâ€™t they let me use the processes that we have fought for , and just let me be safe in\\n\\n    Example 10:\\n    Itâ€™s the weekend . I believe itâ€™s Saturday today . I think itâ€™s Februaryâ€¦ not sure.Anyway I was just phoning to say that , thank goodness , Iâ€™ve had my COVID injection . I had a bit of a reaction to it which has lasted in , on and off , for about five days now so , especially the headaches , oh my goodness me . Yesterday one of the headaches , I mean it lasted all day and I had to take paracetamol and knocked me off my balance so I stayed in bed . And then , Iâ€™m feeling much better today and it hasnâ€™t put me off getting the COVID injection . I just wish Iâ€™d been a wee bit more mentally prepared for the side effects . But thatâ€™s okay.Nowâ€¦ but yesterday was not a good day . The headache was really quite disabling . And the postman came and guess what was in the post ? A lovely surprise card with a little pocket wooden bear hug from a lovely friend , a virtual friend , Glory . So I want to give a big thank you to Glory . You have no idea\\n\\nWrite a blog entry on A Day in My Life: Describe a typical day, from morning routines to evening wind-down.\""
            ],
            "application/vnd.google.colaboratory.intrinsic+json": {
              "type": "string"
            }
          },
          "metadata": {},
          "execution_count": 50
        }
      ]
    },
    {
      "cell_type": "code",
      "source": [
        "biased_predictions.to_csv(\"generated_biased_predictions_shuffled.csv\")"
      ],
      "metadata": {
        "id": "PfWe4WoQ60Px"
      },
      "execution_count": null,
      "outputs": []
    },
    {
      "cell_type": "code",
      "source": [
        "biased_predictions_train.to_csv(\"generated_biased_predictions_unshuffled.csv\")"
      ],
      "metadata": {
        "id": "r_fZwtPGyMsk"
      },
      "execution_count": null,
      "outputs": []
    }
  ]
}